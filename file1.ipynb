{
  "nbformat": 4,
  "nbformat_minor": 0,
  "metadata": {
    "colab": {
      "provenance": [],
      "include_colab_link": true
    },
    "kernelspec": {
      "name": "python3",
      "display_name": "Python 3"
    },
    "language_info": {
      "name": "python"
    }
  },
  "cells": [
    {
      "cell_type": "markdown",
      "metadata": {
        "id": "view-in-github",
        "colab_type": "text"
      },
      "source": [
        "<a href=\"https://colab.research.google.com/github/REDi-school-ff22-Data-cycle/twitter-sentiment-analysis/blob/main/file1.ipynb\" target=\"_parent\"><img src=\"https://colab.research.google.com/assets/colab-badge.svg\" alt=\"Open In Colab\"/></a>"
      ]
    },
    {
      "cell_type": "markdown",
      "source": [
        "# Twitter Sentiment Analysis Climate Change\n",
        "\n",
        "Challenge and data adquired from: https://www.kaggle.com/datasets/edqian/twitter-climate-change-sentiment-dataset?datasetId=413654\n",
        "\n",
        "GitHub Repository: https://github.com/REDi-school-ff22-Data-cycle/twitter-sentiment-analysis\n",
        "\n"
      ],
      "metadata": {
        "id": "dbH5wRmr-Vjn"
      }
    },
    {
      "cell_type": "markdown",
      "source": [
        "Tasks to follow: \n",
        "1. Create a code that loads and processes the data. "
      ],
      "metadata": {
        "id": "xHVa5gkv-363"
      }
    },
    {
      "cell_type": "code",
      "source": [
        "import pandas as pd\n",
        "\n",
        "url = 'https://github.com/REDi-school-ff22-Data-cycle/twitter-sentiment-analysis/blob/main/twitter_sentiment_data.csv'\n",
        "df = pd.read_csv\n",
        "#df = pd.read_csv(url)"
      ],
      "metadata": {
        "id": "n_qyfljk-3dP"
      },
      "execution_count": 1,
      "outputs": []
    },
    {
      "cell_type": "markdown",
      "source": [],
      "metadata": {
        "id": "YPaGQN7s_VZd"
      }
    }
  ]
}