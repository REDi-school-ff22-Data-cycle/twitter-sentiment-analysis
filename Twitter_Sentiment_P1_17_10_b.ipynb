{
  "cells": [
    {
      "cell_type": "markdown",
      "metadata": {
        "id": "view-in-github",
        "colab_type": "text"
      },
      "source": [
        "<a href=\"https://colab.research.google.com/github/REDi-school-ff22-Data-cycle/twitter-sentiment-analysis/blob/main/Twitter_Sentiment_P1_10_10_b.ipynb\" target=\"_parent\"><img src=\"https://colab.research.google.com/assets/colab-badge.svg\" alt=\"Open In Colab\"/></a>"
      ]
    },
    {
      "cell_type": "markdown",
      "metadata": {
        "id": "dbH5wRmr-Vjn"
      },
      "source": [
        "## **Twitter Sentiment Analysis Climate Change**\n",
        "By Charles Emeka Onyi & Lucía Morales Lizárraga \n",
        "\n",
        "Supervised by Nishtha Jain & Benjamin Feifke\n",
        "\n",
        " \n",
        "Challenge and **data** adquired from: https://www.kaggle.com/datasets/edqian/twitter-climate-change-sentiment-dataset?datasetId=413654\n",
        "\n",
        "Our **GitHub Repository** where you can find the data set, our colabs and processes: https://github.com/REDi-school-ff22-Data-cycle/twitter-sentiment-analysis\n",
        "\n"
      ]
    },
    {
      "cell_type": "markdown",
      "metadata": {
        "id": "T_FDOylyRyJJ"
      },
      "source": [
        "The collection of this data was funded by a Canada Foundation for Innovation JELF Grant to Chris Bauch, University of Waterloo.\n",
        "\n",
        "This dataset aggregates tweets pertaining to climate change collected between Apr 27, 2015 and Feb 21, 2018. In total, 43943 tweets were annotated. Each tweet is labelled independently by 3 reviewers. This dataset only contains tweets that all 3 reviewers agreed on (the rest were discarded).\n",
        "\n",
        "Each tweet is labelled as one of the following classes:\n",
        "\n",
        "- 2(News): the tweet links to factual news about climate change\n",
        "- 1(Pro): the tweet supports the belief of man-made climate change\n",
        "- 0(Neutral: the tweet neither supports nor refutes the belief of man-made climate change\n",
        "- -1(Anti): the tweet does not believe in man-made climate change"
      ]
    },
    {
      "cell_type": "markdown",
      "metadata": {
        "id": "xHVa5gkv-363"
      },
      "source": [
        "# Outline: \n",
        ">1. Create a code that loads and processes the data\n",
        "\n",
        ">2. Explore the dataset \n",
        "\n",
        ">3. Tweets preprosessing techniques \n",
        "\n",
        "> 4. Prediction Models: \n",
        "\n",
        ">> 4.1 Linear Regression\n",
        "\n",
        ">> 4.2 Naive Bayes Classifier\n",
        "\n",
        ">> 4.3 Random Forest Classifier \n",
        "\n",
        ">> 4.4 K Nearest Neighbors Classification \n",
        "\n",
        "> 5. Feature Engeneering Techniques \n",
        "\n",
        ">> 5.1 Classification\n",
        "\n",
        ">> 5.2 Oversamplong\n"
      ]
    },
    {
      "cell_type": "code",
      "execution_count": 98,
      "metadata": {
        "id": "XcFH62Sg7T_Y"
      },
      "outputs": [],
      "source": [
        "# this is a hack to allow displaying more than one result per notebook cell\n",
        "from IPython.core.interactiveshell import InteractiveShell\n",
        "InteractiveShell.ast_node_interactivity = \"all\" "
      ]
    },
    {
      "cell_type": "markdown",
      "metadata": {
        "id": "TaWWWdb22I8m"
      },
      "source": [
        "# 1. Load and process the data "
      ]
    },
    {
      "cell_type": "code",
      "execution_count": 99,
      "metadata": {
        "id": "n_qyfljk-3dP",
        "colab": {
          "base_uri": "https://localhost:8080/",
          "height": 206
        },
        "outputId": "908501cb-7899-4b36-df77-b204970645da"
      },
      "outputs": [
        {
          "output_type": "execute_result",
          "data": {
            "text/plain": [
              "   sentiment                                            message  \\\n",
              "0         -1  @tiniebeany climate change is an interesting h...   \n",
              "1          1  RT @NatGeoChannel: Watch #BeforeTheFlood right...   \n",
              "2          1  Fabulous! Leonardo #DiCaprio's film on #climat...   \n",
              "3          1  RT @Mick_Fanning: Just watched this amazing do...   \n",
              "4          2  RT @cnalive: Pranita Biswasi, a Lutheran from ...   \n",
              "\n",
              "              tweetid  \n",
              "0  792927353886371840  \n",
              "1  793124211518832641  \n",
              "2  793124402388832256  \n",
              "3  793124635873275904  \n",
              "4  793125156185137153  "
            ],
            "text/html": [
              "\n",
              "  <div id=\"df-f647be50-aaee-4261-aa38-5dd6ffb82f73\">\n",
              "    <div class=\"colab-df-container\">\n",
              "      <div>\n",
              "<style scoped>\n",
              "    .dataframe tbody tr th:only-of-type {\n",
              "        vertical-align: middle;\n",
              "    }\n",
              "\n",
              "    .dataframe tbody tr th {\n",
              "        vertical-align: top;\n",
              "    }\n",
              "\n",
              "    .dataframe thead th {\n",
              "        text-align: right;\n",
              "    }\n",
              "</style>\n",
              "<table border=\"1\" class=\"dataframe\">\n",
              "  <thead>\n",
              "    <tr style=\"text-align: right;\">\n",
              "      <th></th>\n",
              "      <th>sentiment</th>\n",
              "      <th>message</th>\n",
              "      <th>tweetid</th>\n",
              "    </tr>\n",
              "  </thead>\n",
              "  <tbody>\n",
              "    <tr>\n",
              "      <th>0</th>\n",
              "      <td>-1</td>\n",
              "      <td>@tiniebeany climate change is an interesting h...</td>\n",
              "      <td>792927353886371840</td>\n",
              "    </tr>\n",
              "    <tr>\n",
              "      <th>1</th>\n",
              "      <td>1</td>\n",
              "      <td>RT @NatGeoChannel: Watch #BeforeTheFlood right...</td>\n",
              "      <td>793124211518832641</td>\n",
              "    </tr>\n",
              "    <tr>\n",
              "      <th>2</th>\n",
              "      <td>1</td>\n",
              "      <td>Fabulous! Leonardo #DiCaprio's film on #climat...</td>\n",
              "      <td>793124402388832256</td>\n",
              "    </tr>\n",
              "    <tr>\n",
              "      <th>3</th>\n",
              "      <td>1</td>\n",
              "      <td>RT @Mick_Fanning: Just watched this amazing do...</td>\n",
              "      <td>793124635873275904</td>\n",
              "    </tr>\n",
              "    <tr>\n",
              "      <th>4</th>\n",
              "      <td>2</td>\n",
              "      <td>RT @cnalive: Pranita Biswasi, a Lutheran from ...</td>\n",
              "      <td>793125156185137153</td>\n",
              "    </tr>\n",
              "  </tbody>\n",
              "</table>\n",
              "</div>\n",
              "      <button class=\"colab-df-convert\" onclick=\"convertToInteractive('df-f647be50-aaee-4261-aa38-5dd6ffb82f73')\"\n",
              "              title=\"Convert this dataframe to an interactive table.\"\n",
              "              style=\"display:none;\">\n",
              "        \n",
              "  <svg xmlns=\"http://www.w3.org/2000/svg\" height=\"24px\"viewBox=\"0 0 24 24\"\n",
              "       width=\"24px\">\n",
              "    <path d=\"M0 0h24v24H0V0z\" fill=\"none\"/>\n",
              "    <path d=\"M18.56 5.44l.94 2.06.94-2.06 2.06-.94-2.06-.94-.94-2.06-.94 2.06-2.06.94zm-11 1L8.5 8.5l.94-2.06 2.06-.94-2.06-.94L8.5 2.5l-.94 2.06-2.06.94zm10 10l.94 2.06.94-2.06 2.06-.94-2.06-.94-.94-2.06-.94 2.06-2.06.94z\"/><path d=\"M17.41 7.96l-1.37-1.37c-.4-.4-.92-.59-1.43-.59-.52 0-1.04.2-1.43.59L10.3 9.45l-7.72 7.72c-.78.78-.78 2.05 0 2.83L4 21.41c.39.39.9.59 1.41.59.51 0 1.02-.2 1.41-.59l7.78-7.78 2.81-2.81c.8-.78.8-2.07 0-2.86zM5.41 20L4 18.59l7.72-7.72 1.47 1.35L5.41 20z\"/>\n",
              "  </svg>\n",
              "      </button>\n",
              "      \n",
              "  <style>\n",
              "    .colab-df-container {\n",
              "      display:flex;\n",
              "      flex-wrap:wrap;\n",
              "      gap: 12px;\n",
              "    }\n",
              "\n",
              "    .colab-df-convert {\n",
              "      background-color: #E8F0FE;\n",
              "      border: none;\n",
              "      border-radius: 50%;\n",
              "      cursor: pointer;\n",
              "      display: none;\n",
              "      fill: #1967D2;\n",
              "      height: 32px;\n",
              "      padding: 0 0 0 0;\n",
              "      width: 32px;\n",
              "    }\n",
              "\n",
              "    .colab-df-convert:hover {\n",
              "      background-color: #E2EBFA;\n",
              "      box-shadow: 0px 1px 2px rgba(60, 64, 67, 0.3), 0px 1px 3px 1px rgba(60, 64, 67, 0.15);\n",
              "      fill: #174EA6;\n",
              "    }\n",
              "\n",
              "    [theme=dark] .colab-df-convert {\n",
              "      background-color: #3B4455;\n",
              "      fill: #D2E3FC;\n",
              "    }\n",
              "\n",
              "    [theme=dark] .colab-df-convert:hover {\n",
              "      background-color: #434B5C;\n",
              "      box-shadow: 0px 1px 3px 1px rgba(0, 0, 0, 0.15);\n",
              "      filter: drop-shadow(0px 1px 2px rgba(0, 0, 0, 0.3));\n",
              "      fill: #FFFFFF;\n",
              "    }\n",
              "  </style>\n",
              "\n",
              "      <script>\n",
              "        const buttonEl =\n",
              "          document.querySelector('#df-f647be50-aaee-4261-aa38-5dd6ffb82f73 button.colab-df-convert');\n",
              "        buttonEl.style.display =\n",
              "          google.colab.kernel.accessAllowed ? 'block' : 'none';\n",
              "\n",
              "        async function convertToInteractive(key) {\n",
              "          const element = document.querySelector('#df-f647be50-aaee-4261-aa38-5dd6ffb82f73');\n",
              "          const dataTable =\n",
              "            await google.colab.kernel.invokeFunction('convertToInteractive',\n",
              "                                                     [key], {});\n",
              "          if (!dataTable) return;\n",
              "\n",
              "          const docLinkHtml = 'Like what you see? Visit the ' +\n",
              "            '<a target=\"_blank\" href=https://colab.research.google.com/notebooks/data_table.ipynb>data table notebook</a>'\n",
              "            + ' to learn more about interactive tables.';\n",
              "          element.innerHTML = '';\n",
              "          dataTable['output_type'] = 'display_data';\n",
              "          await google.colab.output.renderOutput(dataTable, element);\n",
              "          const docLink = document.createElement('div');\n",
              "          docLink.innerHTML = docLinkHtml;\n",
              "          element.appendChild(docLink);\n",
              "        }\n",
              "      </script>\n",
              "    </div>\n",
              "  </div>\n",
              "  "
            ]
          },
          "metadata": {},
          "execution_count": 99
        }
      ],
      "source": [
        "import pandas as pd\n",
        "\n",
        "url = 'https://raw.githubusercontent.com/REDi-school-ff22-Data-cycle/twitter-sentiment-analysis/main/twitter_sentiment_data.csv'\n",
        "df = pd.read_csv(url)\n",
        "df.head(5)"
      ]
    },
    {
      "cell_type": "markdown",
      "metadata": {
        "id": "fCjq2Yjo0LEb"
      },
      "source": [
        "# 2. Exploring the dataset"
      ]
    },
    {
      "cell_type": "code",
      "execution_count": 100,
      "metadata": {
        "id": "40c3L9OlN7A2",
        "colab": {
          "base_uri": "https://localhost:8080/"
        },
        "outputId": "3f2cc5b7-61e1-4b6f-a904-d0b469f025b6"
      },
      "outputs": [
        {
          "output_type": "execute_result",
          "data": {
            "text/plain": [
              "(43943, 3)"
            ]
          },
          "metadata": {},
          "execution_count": 100
        }
      ],
      "source": [
        "# Shape\n",
        "df.shape"
      ]
    },
    {
      "cell_type": "code",
      "execution_count": 101,
      "metadata": {
        "id": "IpzFY3EVJVLB",
        "colab": {
          "base_uri": "https://localhost:8080/",
          "height": 439
        },
        "outputId": "24339f97-d69f-4a5d-ac3b-f0b929d611ad"
      },
      "outputs": [
        {
          "output_type": "execute_result",
          "data": {
            "text/plain": [
              "    sentiment\n",
              " 1  52.254056\n",
              " 2  21.109164\n",
              " 0  17.556835\n",
              "-1   9.079944"
            ],
            "text/html": [
              "\n",
              "  <div id=\"df-d48d7277-0d4f-4902-8fdd-307ecacc1e76\">\n",
              "    <div class=\"colab-df-container\">\n",
              "      <div>\n",
              "<style scoped>\n",
              "    .dataframe tbody tr th:only-of-type {\n",
              "        vertical-align: middle;\n",
              "    }\n",
              "\n",
              "    .dataframe tbody tr th {\n",
              "        vertical-align: top;\n",
              "    }\n",
              "\n",
              "    .dataframe thead th {\n",
              "        text-align: right;\n",
              "    }\n",
              "</style>\n",
              "<table border=\"1\" class=\"dataframe\">\n",
              "  <thead>\n",
              "    <tr style=\"text-align: right;\">\n",
              "      <th></th>\n",
              "      <th>sentiment</th>\n",
              "    </tr>\n",
              "  </thead>\n",
              "  <tbody>\n",
              "    <tr>\n",
              "      <th>1</th>\n",
              "      <td>52.254056</td>\n",
              "    </tr>\n",
              "    <tr>\n",
              "      <th>2</th>\n",
              "      <td>21.109164</td>\n",
              "    </tr>\n",
              "    <tr>\n",
              "      <th>0</th>\n",
              "      <td>17.556835</td>\n",
              "    </tr>\n",
              "    <tr>\n",
              "      <th>-1</th>\n",
              "      <td>9.079944</td>\n",
              "    </tr>\n",
              "  </tbody>\n",
              "</table>\n",
              "</div>\n",
              "      <button class=\"colab-df-convert\" onclick=\"convertToInteractive('df-d48d7277-0d4f-4902-8fdd-307ecacc1e76')\"\n",
              "              title=\"Convert this dataframe to an interactive table.\"\n",
              "              style=\"display:none;\">\n",
              "        \n",
              "  <svg xmlns=\"http://www.w3.org/2000/svg\" height=\"24px\"viewBox=\"0 0 24 24\"\n",
              "       width=\"24px\">\n",
              "    <path d=\"M0 0h24v24H0V0z\" fill=\"none\"/>\n",
              "    <path d=\"M18.56 5.44l.94 2.06.94-2.06 2.06-.94-2.06-.94-.94-2.06-.94 2.06-2.06.94zm-11 1L8.5 8.5l.94-2.06 2.06-.94-2.06-.94L8.5 2.5l-.94 2.06-2.06.94zm10 10l.94 2.06.94-2.06 2.06-.94-2.06-.94-.94-2.06-.94 2.06-2.06.94z\"/><path d=\"M17.41 7.96l-1.37-1.37c-.4-.4-.92-.59-1.43-.59-.52 0-1.04.2-1.43.59L10.3 9.45l-7.72 7.72c-.78.78-.78 2.05 0 2.83L4 21.41c.39.39.9.59 1.41.59.51 0 1.02-.2 1.41-.59l7.78-7.78 2.81-2.81c.8-.78.8-2.07 0-2.86zM5.41 20L4 18.59l7.72-7.72 1.47 1.35L5.41 20z\"/>\n",
              "  </svg>\n",
              "      </button>\n",
              "      \n",
              "  <style>\n",
              "    .colab-df-container {\n",
              "      display:flex;\n",
              "      flex-wrap:wrap;\n",
              "      gap: 12px;\n",
              "    }\n",
              "\n",
              "    .colab-df-convert {\n",
              "      background-color: #E8F0FE;\n",
              "      border: none;\n",
              "      border-radius: 50%;\n",
              "      cursor: pointer;\n",
              "      display: none;\n",
              "      fill: #1967D2;\n",
              "      height: 32px;\n",
              "      padding: 0 0 0 0;\n",
              "      width: 32px;\n",
              "    }\n",
              "\n",
              "    .colab-df-convert:hover {\n",
              "      background-color: #E2EBFA;\n",
              "      box-shadow: 0px 1px 2px rgba(60, 64, 67, 0.3), 0px 1px 3px 1px rgba(60, 64, 67, 0.15);\n",
              "      fill: #174EA6;\n",
              "    }\n",
              "\n",
              "    [theme=dark] .colab-df-convert {\n",
              "      background-color: #3B4455;\n",
              "      fill: #D2E3FC;\n",
              "    }\n",
              "\n",
              "    [theme=dark] .colab-df-convert:hover {\n",
              "      background-color: #434B5C;\n",
              "      box-shadow: 0px 1px 3px 1px rgba(0, 0, 0, 0.15);\n",
              "      filter: drop-shadow(0px 1px 2px rgba(0, 0, 0, 0.3));\n",
              "      fill: #FFFFFF;\n",
              "    }\n",
              "  </style>\n",
              "\n",
              "      <script>\n",
              "        const buttonEl =\n",
              "          document.querySelector('#df-d48d7277-0d4f-4902-8fdd-307ecacc1e76 button.colab-df-convert');\n",
              "        buttonEl.style.display =\n",
              "          google.colab.kernel.accessAllowed ? 'block' : 'none';\n",
              "\n",
              "        async function convertToInteractive(key) {\n",
              "          const element = document.querySelector('#df-d48d7277-0d4f-4902-8fdd-307ecacc1e76');\n",
              "          const dataTable =\n",
              "            await google.colab.kernel.invokeFunction('convertToInteractive',\n",
              "                                                     [key], {});\n",
              "          if (!dataTable) return;\n",
              "\n",
              "          const docLinkHtml = 'Like what you see? Visit the ' +\n",
              "            '<a target=\"_blank\" href=https://colab.research.google.com/notebooks/data_table.ipynb>data table notebook</a>'\n",
              "            + ' to learn more about interactive tables.';\n",
              "          element.innerHTML = '';\n",
              "          dataTable['output_type'] = 'display_data';\n",
              "          await google.colab.output.renderOutput(dataTable, element);\n",
              "          const docLink = document.createElement('div');\n",
              "          docLink.innerHTML = docLinkHtml;\n",
              "          element.appendChild(docLink);\n",
              "        }\n",
              "      </script>\n",
              "    </div>\n",
              "  </div>\n",
              "  "
            ]
          },
          "metadata": {},
          "execution_count": 101
        },
        {
          "output_type": "execute_result",
          "data": {
            "text/plain": [
              "<matplotlib.axes._subplots.AxesSubplot at 0x7f7a2113d2d0>"
            ]
          },
          "metadata": {},
          "execution_count": 101
        },
        {
          "output_type": "display_data",
          "data": {
            "text/plain": [
              "<Figure size 432x288 with 1 Axes>"
            ],
            "image/png": "[encoded data removed]"
          },
          "metadata": {}
        }
      ],
      "source": [
        "# Distribution \n",
        "sentiment_count =df['sentiment'].value_counts().to_frame()\n",
        "percentage = (sentiment_count * 100) / df.shape[0]\n",
        "percentage \n",
        "\n",
        "# Pie Chart with pandas \n",
        "# Define the ratio of gap of each fragment in a tuple\n",
        "explode = (0.05, 0.05, 0.05, 0.05)\n",
        "\n",
        "labels = ['1: Positive', '2: News', '0:Neutral','-1: Negative']\n",
        "percentage.plot(kind='pie', y='sentiment', labels=labels, autopct='%1.0f%%', explode=explode, shadow=True, legend=True, \n",
        "                title='Climate Change Sentiments Percentage', ylabel= '', labeldistance=None)"
      ]
    },
    {
      "cell_type": "code",
      "execution_count": 102,
      "metadata": {
        "colab": {
          "base_uri": "https://localhost:8080/",
          "height": 300
        },
        "id": "QqVYmR2OOCJT",
        "outputId": "f63054d5-4687-45ab-8055-a4e375656354"
      },
      "outputs": [
        {
          "output_type": "execute_result",
          "data": {
            "text/plain": [
              "          sentiment       tweetid\n",
              "count  43943.000000  4.394300e+04\n",
              "mean       0.853924  8.367966e+17\n",
              "std        0.853543  8.568506e+16\n",
              "min       -1.000000  5.926334e+17\n",
              "25%        0.000000  7.970376e+17\n",
              "50%        1.000000  8.402301e+17\n",
              "75%        1.000000  9.020003e+17\n",
              "max        2.000000  9.667024e+17"
            ],
            "text/html": [
              "\n",
              "  <div id=\"df-98a77421-fbd0-4b30-949f-1566c9f06c3b\">\n",
              "    <div class=\"colab-df-container\">\n",
              "      <div>\n",
              "<style scoped>\n",
              "    .dataframe tbody tr th:only-of-type {\n",
              "        vertical-align: middle;\n",
              "    }\n",
              "\n",
              "    .dataframe tbody tr th {\n",
              "        vertical-align: top;\n",
              "    }\n",
              "\n",
              "    .dataframe thead th {\n",
              "        text-align: right;\n",
              "    }\n",
              "</style>\n",
              "<table border=\"1\" class=\"dataframe\">\n",
              "  <thead>\n",
              "    <tr style=\"text-align: right;\">\n",
              "      <th></th>\n",
              "      <th>sentiment</th>\n",
              "      <th>tweetid</th>\n",
              "    </tr>\n",
              "  </thead>\n",
              "  <tbody>\n",
              "    <tr>\n",
              "      <th>count</th>\n",
              "      <td>43943.000000</td>\n",
              "      <td>4.394300e+04</td>\n",
              "    </tr>\n",
              "    <tr>\n",
              "      <th>mean</th>\n",
              "      <td>0.853924</td>\n",
              "      <td>8.367966e+17</td>\n",
              "    </tr>\n",
              "    <tr>\n",
              "      <th>std</th>\n",
              "      <td>0.853543</td>\n",
              "      <td>8.568506e+16</td>\n",
              "    </tr>\n",
              "    <tr>\n",
              "      <th>min</th>\n",
              "      <td>-1.000000</td>\n",
              "      <td>5.926334e+17</td>\n",
              "    </tr>\n",
              "    <tr>\n",
              "      <th>25%</th>\n",
              "      <td>0.000000</td>\n",
              "      <td>7.970376e+17</td>\n",
              "    </tr>\n",
              "    <tr>\n",
              "      <th>50%</th>\n",
              "      <td>1.000000</td>\n",
              "      <td>8.402301e+17</td>\n",
              "    </tr>\n",
              "    <tr>\n",
              "      <th>75%</th>\n",
              "      <td>1.000000</td>\n",
              "      <td>9.020003e+17</td>\n",
              "    </tr>\n",
              "    <tr>\n",
              "      <th>max</th>\n",
              "      <td>2.000000</td>\n",
              "      <td>9.667024e+17</td>\n",
              "    </tr>\n",
              "  </tbody>\n",
              "</table>\n",
              "</div>\n",
              "      <button class=\"colab-df-convert\" onclick=\"convertToInteractive('df-98a77421-fbd0-4b30-949f-1566c9f06c3b')\"\n",
              "              title=\"Convert this dataframe to an interactive table.\"\n",
              "              style=\"display:none;\">\n",
              "        \n",
              "  <svg xmlns=\"http://www.w3.org/2000/svg\" height=\"24px\"viewBox=\"0 0 24 24\"\n",
              "       width=\"24px\">\n",
              "    <path d=\"M0 0h24v24H0V0z\" fill=\"none\"/>\n",
              "    <path d=\"M18.56 5.44l.94 2.06.94-2.06 2.06-.94-2.06-.94-.94-2.06-.94 2.06-2.06.94zm-11 1L8.5 8.5l.94-2.06 2.06-.94-2.06-.94L8.5 2.5l-.94 2.06-2.06.94zm10 10l.94 2.06.94-2.06 2.06-.94-2.06-.94-.94-2.06-.94 2.06-2.06.94z\"/><path d=\"M17.41 7.96l-1.37-1.37c-.4-.4-.92-.59-1.43-.59-.52 0-1.04.2-1.43.59L10.3 9.45l-7.72 7.72c-.78.78-.78 2.05 0 2.83L4 21.41c.39.39.9.59 1.41.59.51 0 1.02-.2 1.41-.59l7.78-7.78 2.81-2.81c.8-.78.8-2.07 0-2.86zM5.41 20L4 18.59l7.72-7.72 1.47 1.35L5.41 20z\"/>\n",
              "  </svg>\n",
              "      </button>\n",
              "      \n",
              "  <style>\n",
              "    .colab-df-container {\n",
              "      display:flex;\n",
              "      flex-wrap:wrap;\n",
              "      gap: 12px;\n",
              "    }\n",
              "\n",
              "    .colab-df-convert {\n",
              "      background-color: #E8F0FE;\n",
              "      border: none;\n",
              "      border-radius: 50%;\n",
              "      cursor: pointer;\n",
              "      display: none;\n",
              "      fill: #1967D2;\n",
              "      height: 32px;\n",
              "      padding: 0 0 0 0;\n",
              "      width: 32px;\n",
              "    }\n",
              "\n",
              "    .colab-df-convert:hover {\n",
              "      background-color: #E2EBFA;\n",
              "      box-shadow: 0px 1px 2px rgba(60, 64, 67, 0.3), 0px 1px 3px 1px rgba(60, 64, 67, 0.15);\n",
              "      fill: #174EA6;\n",
              "    }\n",
              "\n",
              "    [theme=dark] .colab-df-convert {\n",
              "      background-color: #3B4455;\n",
              "      fill: #D2E3FC;\n",
              "    }\n",
              "\n",
              "    [theme=dark] .colab-df-convert:hover {\n",
              "      background-color: #434B5C;\n",
              "      box-shadow: 0px 1px 3px 1px rgba(0, 0, 0, 0.15);\n",
              "      filter: drop-shadow(0px 1px 2px rgba(0, 0, 0, 0.3));\n",
              "      fill: #FFFFFF;\n",
              "    }\n",
              "  </style>\n",
              "\n",
              "      <script>\n",
              "        const buttonEl =\n",
              "          document.querySelector('#df-98a77421-fbd0-4b30-949f-1566c9f06c3b button.colab-df-convert');\n",
              "        buttonEl.style.display =\n",
              "          google.colab.kernel.accessAllowed ? 'block' : 'none';\n",
              "\n",
              "        async function convertToInteractive(key) {\n",
              "          const element = document.querySelector('#df-98a77421-fbd0-4b30-949f-1566c9f06c3b');\n",
              "          const dataTable =\n",
              "            await google.colab.kernel.invokeFunction('convertToInteractive',\n",
              "                                                     [key], {});\n",
              "          if (!dataTable) return;\n",
              "\n",
              "          const docLinkHtml = 'Like what you see? Visit the ' +\n",
              "            '<a target=\"_blank\" href=https://colab.research.google.com/notebooks/data_table.ipynb>data table notebook</a>'\n",
              "            + ' to learn more about interactive tables.';\n",
              "          element.innerHTML = '';\n",
              "          dataTable['output_type'] = 'display_data';\n",
              "          await google.colab.output.renderOutput(dataTable, element);\n",
              "          const docLink = document.createElement('div');\n",
              "          docLink.innerHTML = docLinkHtml;\n",
              "          element.appendChild(docLink);\n",
              "        }\n",
              "      </script>\n",
              "    </div>\n",
              "  </div>\n",
              "  "
            ]
          },
          "metadata": {},
          "execution_count": 102
        }
      ],
      "source": [
        "df.describe()"
      ]
    },
    {
      "cell_type": "code",
      "execution_count": 103,
      "metadata": {
        "colab": {
          "base_uri": "https://localhost:8080/",
          "height": 296
        },
        "id": "FGA9EZ9TOEbe",
        "outputId": "7b9c08a7-4bda-44cd-f57d-e4db70947e4e"
      },
      "outputs": [
        {
          "output_type": "execute_result",
          "data": {
            "text/plain": [
              "<matplotlib.axes._subplots.AxesSubplot at 0x7f7a33da3850>"
            ]
          },
          "metadata": {},
          "execution_count": 103
        },
        {
          "output_type": "display_data",
          "data": {
            "text/plain": [
              "<Figure size 432x288 with 1 Axes>"
            ],
            "image/png": "[encoded data removed]"
          },
          "metadata": {
            "needs_background": "light"
          }
        }
      ],
      "source": [
        "df.groupby('sentiment').count().plot(kind='bar')"
      ]
    },
    {
      "cell_type": "code",
      "execution_count": 104,
      "metadata": {
        "colab": {
          "base_uri": "https://localhost:8080/",
          "height": 281
        },
        "id": "INppcgirUJfe",
        "outputId": "1e30fb26-f531-4ec4-dc5c-35a209d37fd9"
      },
      "outputs": [
        {
          "output_type": "display_data",
          "data": {
            "text/plain": [
              "<Figure size 432x288 with 1 Axes>"
            ],
            "image/png": "[encoded data removed]"
          },
          "metadata": {
            "needs_background": "light"
          }
        }
      ],
      "source": [
        "from matplotlib import pyplot as plt\n",
        "plot= df['sentiment'].value_counts().plot(kind='bar', rot=0, legend=True, title='Climate Change Distribution per sentiment', ylabel= '')"
      ]
    },
    {
      "cell_type": "code",
      "execution_count": 105,
      "metadata": {
        "colab": {
          "base_uri": "https://localhost:8080/"
        },
        "id": "7Y4LevEUOPX2",
        "outputId": "2fbdac0f-1566-4dee-8642-ff8aeed8b7ad"
      },
      "outputs": [
        {
          "output_type": "execute_result",
          "data": {
            "text/plain": [
              "sentiment    0\n",
              "message      0\n",
              "tweetid      0\n",
              "dtype: int64"
            ]
          },
          "metadata": {},
          "execution_count": 105
        }
      ],
      "source": [
        "# Check whether there is NAs \n",
        "df.isna().sum()"
      ]
    },
    {
      "cell_type": "code",
      "execution_count": 106,
      "metadata": {
        "colab": {
          "base_uri": "https://localhost:8080/",
          "height": 312
        },
        "id": "DUqgQ-wu8eav",
        "outputId": "d324c136-f066-4ab0-dd36-447d29025874"
      },
      "outputs": [
        {
          "output_type": "execute_result",
          "data": {
            "text/plain": [
              "<matplotlib.axes._subplots.AxesSubplot at 0x7f7a27860210>"
            ]
          },
          "metadata": {},
          "execution_count": 106
        },
        {
          "output_type": "display_data",
          "data": {
            "text/plain": [
              "<Figure size 432x288 with 1 Axes>"
            ],
            "image/png": "[encoded data removed]"
          },
          "metadata": {
            "needs_background": "light"
          }
        }
      ],
      "source": [
        "# Tweets Length\n",
        "\n",
        "df['length'] = df['message'].str.len()\n",
        "\n",
        "df.groupby(['sentiment'])['length'].mean().round(0).plot(kind='bar', rot=0, legend=True, title='Average of characters per tweet', ylabel= '')"
      ]
    },
    {
      "cell_type": "code",
      "execution_count": 107,
      "metadata": {
        "colab": {
          "base_uri": "https://localhost:8080/",
          "height": 312
        },
        "id": "Z1YDET66-mVw",
        "outputId": "01a5bf80-3efc-44df-9fe9-dde316f4484d"
      },
      "outputs": [
        {
          "output_type": "execute_result",
          "data": {
            "text/plain": [
              "<matplotlib.axes._subplots.AxesSubplot at 0x7f7a2c52d0d0>"
            ]
          },
          "metadata": {},
          "execution_count": 107
        },
        {
          "output_type": "execute_result",
          "data": {
            "text/plain": [
              "Text(0.5, 1.0, 'Tweet length for each class')"
            ]
          },
          "metadata": {},
          "execution_count": 107
        },
        {
          "output_type": "display_data",
          "data": {
            "text/plain": [
              "<Figure size 432x288 with 1 Axes>"
            ],
            "image/png": "[encoded data removed]"
          },
          "metadata": {
            "needs_background": "light"
          }
        }
      ],
      "source": [
        "import seaborn as sns\n",
        "import matplotlib.pyplot as plt \n",
        "sns.boxplot(x=df['sentiment'], y=df['length'], data=df, palette=(\"Blues_d\"))\n",
        "plt.title('Tweet length for each class')\n",
        "plt.show()"
      ]
    },
    {
      "cell_type": "code",
      "execution_count": 108,
      "metadata": {
        "colab": {
          "base_uri": "https://localhost:8080/"
        },
        "id": "RFK7oyAuuDM-",
        "outputId": "160238a2-d551-48de-8dcb-ded4ab7900ef"
      },
      "outputs": [
        {
          "output_type": "stream",
          "name": "stdout",
          "text": [
            "Duplicated tweets in train data:\n",
            "6.62 %\n"
          ]
        }
      ],
      "source": [
        "percent_duplicates = round((1-(df['message'].nunique()/len(df['message'])))*100,2)\n",
        "print('Duplicated tweets in train data:')\n",
        "print(percent_duplicates,'%')"
      ]
    },
    {
      "cell_type": "markdown",
      "metadata": {
        "id": "NjjuQS7S-00i"
      },
      "source": [
        "Hastags"
      ]
    },
    {
      "cell_type": "code",
      "execution_count": 109,
      "metadata": {
        "id": "hyaRRjiG-_lf"
      },
      "outputs": [],
      "source": [
        "import re\n",
        "import nltk\n",
        "\n",
        "def hashtag_extract(tweet):\n",
        "  hashtags = []\n",
        "  for i in tweet:\n",
        "    ht = re.findall(r\"#(\\w+)\", i)\n",
        "    hashtags.append(ht)\n",
        "        \n",
        "  hashtags = sum(hashtags, [])\n",
        "  frequency = nltk.FreqDist(hashtags)\n",
        "    \n",
        "  hashtag_df = pd.DataFrame({'hashtag': list(frequency.keys()),\n",
        "                       'count': list(frequency.values())})\n",
        "  hashtag_df = hashtag_df.nlargest(15, columns=\"count\")\n",
        "\n",
        "  return hashtag_df\n",
        "\n",
        "# Extracting the hashtags from tweets in each class\n",
        "pro = hashtag_extract(df['message'][df['sentiment'] == 1])\n",
        "anti = hashtag_extract(df['message'][df['sentiment'] == -1])\n",
        "neutral = hashtag_extract(df['message'][df['sentiment'] == 0])\n",
        "news = hashtag_extract(df['message'][df['sentiment'] == 2])\n",
        "\n",
        "pro.head(10)\n"
      ]
    },
    {
      "cell_type": "code",
      "execution_count": 110,
      "metadata": {
        "id": "ViJB_vF1hDH3",
        "colab": {
          "base_uri": "https://localhost:8080/",
          "height": 363
        },
        "outputId": "0625506b-69fa-4b29-89ea-d7de3ebac6f5"
      },
      "outputs": [
        {
          "output_type": "execute_result",
          "data": {
            "text/plain": [
              "           hashtag  count\n",
              "2             tcot     55\n",
              "44            MAGA     25\n",
              "9          climate     23\n",
              "19           Trump     19\n",
              "22   climatechange     19\n",
              "6               p2     13\n",
              "50   GlobalWarming     10\n",
              "226  WakeUpAmerica     10\n",
              "4            pjnet      9\n",
              "60        FakeNews      9"
            ],
            "text/html": [
              "\n",
              "  <div id=\"df-1556ebbf-b654-4e9a-997e-036f84fbabef\">\n",
              "    <div class=\"colab-df-container\">\n",
              "      <div>\n",
              "<style scoped>\n",
              "    .dataframe tbody tr th:only-of-type {\n",
              "        vertical-align: middle;\n",
              "    }\n",
              "\n",
              "    .dataframe tbody tr th {\n",
              "        vertical-align: top;\n",
              "    }\n",
              "\n",
              "    .dataframe thead th {\n",
              "        text-align: right;\n",
              "    }\n",
              "</style>\n",
              "<table border=\"1\" class=\"dataframe\">\n",
              "  <thead>\n",
              "    <tr style=\"text-align: right;\">\n",
              "      <th></th>\n",
              "      <th>hashtag</th>\n",
              "      <th>count</th>\n",
              "    </tr>\n",
              "  </thead>\n",
              "  <tbody>\n",
              "    <tr>\n",
              "      <th>2</th>\n",
              "      <td>tcot</td>\n",
              "      <td>55</td>\n",
              "    </tr>\n",
              "    <tr>\n",
              "      <th>44</th>\n",
              "      <td>MAGA</td>\n",
              "      <td>25</td>\n",
              "    </tr>\n",
              "    <tr>\n",
              "      <th>9</th>\n",
              "      <td>climate</td>\n",
              "      <td>23</td>\n",
              "    </tr>\n",
              "    <tr>\n",
              "      <th>19</th>\n",
              "      <td>Trump</td>\n",
              "      <td>19</td>\n",
              "    </tr>\n",
              "    <tr>\n",
              "      <th>22</th>\n",
              "      <td>climatechange</td>\n",
              "      <td>19</td>\n",
              "    </tr>\n",
              "    <tr>\n",
              "      <th>6</th>\n",
              "      <td>p2</td>\n",
              "      <td>13</td>\n",
              "    </tr>\n",
              "    <tr>\n",
              "      <th>50</th>\n",
              "      <td>GlobalWarming</td>\n",
              "      <td>10</td>\n",
              "    </tr>\n",
              "    <tr>\n",
              "      <th>226</th>\n",
              "      <td>WakeUpAmerica</td>\n",
              "      <td>10</td>\n",
              "    </tr>\n",
              "    <tr>\n",
              "      <th>4</th>\n",
              "      <td>pjnet</td>\n",
              "      <td>9</td>\n",
              "    </tr>\n",
              "    <tr>\n",
              "      <th>60</th>\n",
              "      <td>FakeNews</td>\n",
              "      <td>9</td>\n",
              "    </tr>\n",
              "  </tbody>\n",
              "</table>\n",
              "</div>\n",
              "      <button class=\"colab-df-convert\" onclick=\"convertToInteractive('df-1556ebbf-b654-4e9a-997e-036f84fbabef')\"\n",
              "              title=\"Convert this dataframe to an interactive table.\"\n",
              "              style=\"display:none;\">\n",
              "        \n",
              "  <svg xmlns=\"http://www.w3.org/2000/svg\" height=\"24px\"viewBox=\"0 0 24 24\"\n",
              "       width=\"24px\">\n",
              "    <path d=\"M0 0h24v24H0V0z\" fill=\"none\"/>\n",
              "    <path d=\"M18.56 5.44l.94 2.06.94-2.06 2.06-.94-2.06-.94-.94-2.06-.94 2.06-2.06.94zm-11 1L8.5 8.5l.94-2.06 2.06-.94-2.06-.94L8.5 2.5l-.94 2.06-2.06.94zm10 10l.94 2.06.94-2.06 2.06-.94-2.06-.94-.94-2.06-.94 2.06-2.06.94z\"/><path d=\"M17.41 7.96l-1.37-1.37c-.4-.4-.92-.59-1.43-.59-.52 0-1.04.2-1.43.59L10.3 9.45l-7.72 7.72c-.78.78-.78 2.05 0 2.83L4 21.41c.39.39.9.59 1.41.59.51 0 1.02-.2 1.41-.59l7.78-7.78 2.81-2.81c.8-.78.8-2.07 0-2.86zM5.41 20L4 18.59l7.72-7.72 1.47 1.35L5.41 20z\"/>\n",
              "  </svg>\n",
              "      </button>\n",
              "      \n",
              "  <style>\n",
              "    .colab-df-container {\n",
              "      display:flex;\n",
              "      flex-wrap:wrap;\n",
              "      gap: 12px;\n",
              "    }\n",
              "\n",
              "    .colab-df-convert {\n",
              "      background-color: #E8F0FE;\n",
              "      border: none;\n",
              "      border-radius: 50%;\n",
              "      cursor: pointer;\n",
              "      display: none;\n",
              "      fill: #1967D2;\n",
              "      height: 32px;\n",
              "      padding: 0 0 0 0;\n",
              "      width: 32px;\n",
              "    }\n",
              "\n",
              "    .colab-df-convert:hover {\n",
              "      background-color: #E2EBFA;\n",
              "      box-shadow: 0px 1px 2px rgba(60, 64, 67, 0.3), 0px 1px 3px 1px rgba(60, 64, 67, 0.15);\n",
              "      fill: #174EA6;\n",
              "    }\n",
              "\n",
              "    [theme=dark] .colab-df-convert {\n",
              "      background-color: #3B4455;\n",
              "      fill: #D2E3FC;\n",
              "    }\n",
              "\n",
              "    [theme=dark] .colab-df-convert:hover {\n",
              "      background-color: #434B5C;\n",
              "      box-shadow: 0px 1px 3px 1px rgba(0, 0, 0, 0.15);\n",
              "      filter: drop-shadow(0px 1px 2px rgba(0, 0, 0, 0.3));\n",
              "      fill: #FFFFFF;\n",
              "    }\n",
              "  </style>\n",
              "\n",
              "      <script>\n",
              "        const buttonEl =\n",
              "          document.querySelector('#df-1556ebbf-b654-4e9a-997e-036f84fbabef button.colab-df-convert');\n",
              "        buttonEl.style.display =\n",
              "          google.colab.kernel.accessAllowed ? 'block' : 'none';\n",
              "\n",
              "        async function convertToInteractive(key) {\n",
              "          const element = document.querySelector('#df-1556ebbf-b654-4e9a-997e-036f84fbabef');\n",
              "          const dataTable =\n",
              "            await google.colab.kernel.invokeFunction('convertToInteractive',\n",
              "                                                     [key], {});\n",
              "          if (!dataTable) return;\n",
              "\n",
              "          const docLinkHtml = 'Like what you see? Visit the ' +\n",
              "            '<a target=\"_blank\" href=https://colab.research.google.com/notebooks/data_table.ipynb>data table notebook</a>'\n",
              "            + ' to learn more about interactive tables.';\n",
              "          element.innerHTML = '';\n",
              "          dataTable['output_type'] = 'display_data';\n",
              "          await google.colab.output.renderOutput(dataTable, element);\n",
              "          const docLink = document.createElement('div');\n",
              "          docLink.innerHTML = docLinkHtml;\n",
              "          element.appendChild(docLink);\n",
              "        }\n",
              "      </script>\n",
              "    </div>\n",
              "  </div>\n",
              "  "
            ]
          },
          "metadata": {},
          "execution_count": 110
        }
      ],
      "source": [
        "anti.head(10)"
      ]
    },
    {
      "cell_type": "markdown",
      "metadata": {
        "id": "TA3ovW7c0rBz"
      },
      "source": [
        "Word Clouds"
      ]
    },
    {
      "cell_type": "code",
      "execution_count": 112,
      "metadata": {
        "id": "Mn9deaUU3LbR"
      },
      "outputs": [],
      "source": [
        "import nltk\n",
        "from nltk.corpus import stopwords\n",
        "#print(stopwords.words('english'))"
      ]
    },
    {
      "cell_type": "code",
      "execution_count": 111,
      "metadata": {
        "id": "YT6sa8fQ2OVf"
      },
      "outputs": [],
      "source": [
        "# We temporaly manually set the list because we got an error with the nltk stopword package. \n",
        "stopwordlist = ['a', 'about', 'above', 'after', 'again', 'ain', 'all', 'am', 'an',\n",
        "             'and','any','are', 'as', 'at', 'be', 'because', 'been', 'before',\n",
        "             'being', 'below', 'between','both', 'by', 'can', 'd', 'did', 'do',\n",
        "             'does', 'doing', 'down', 'during', 'each','few', 'for', 'from',\n",
        "             'further', 'had', 'has', 'have', 'having', 'he', 'her', 'here',\n",
        "             'hers', 'herself', 'him', 'himself', 'his', 'how', 'i', 'if', 'in',\n",
        "             'into','is', 'it', 'its', 'itself', 'just', 'll', 'm', 'ma',\n",
        "             'me', 'more', 'most','my', 'myself', 'now', 'o', 'of', 'on', 'once',\n",
        "             'only', 'or', 'other', 'our', 'ours','ourselves', 'out', 'own', 're','s', 'same', 'she', \"shes\", 'should', \"shouldve\",'so', 'some', 'such',\n",
        "             't', 'than', 'that', \"thatll\", 'the', 'their', 'theirs', 'them',\n",
        "             'themselves', 'then', 'there', 'these', 'they', 'this', 'those',\n",
        "             'through', 'to', 'too','under', 'until', 'up', 've', 'very', 'was',\n",
        "             'we', 'were', 'what', 'when', 'where','which','while', 'who', 'whom',\n",
        "             'why', 'will', 'with', 'won', 'y', 'you', \"youd\",\"youll\", \"youre\",\n",
        "             \"youve\", 'your', 'yours', 'yourself', 'yourselves']"
      ]
    },
    {
      "cell_type": "code",
      "execution_count": 117,
      "metadata": {
        "colab": {
          "base_uri": "https://localhost:8080/",
          "height": 17
        },
        "id": "6xIVOHPkMsBu",
        "outputId": "8717f8fc-07cc-4225-943d-01beda430f06"
      },
      "outputs": [
        {
          "output_type": "display_data",
          "data": {
            "text/html": [
              "        <script type=\"text/javascript\">\n",
              "        window.PlotlyConfig = {MathJaxConfig: 'local'};\n",
              "        if (window.MathJax) {MathJax.Hub.Config({SVG: {font: \"STIX-Web\"}});}\n",
              "        if (typeof require !== 'undefined') {\n",
              "        require.undef(\"plotly\");\n",
              "        requirejs.config({\n",
              "            paths: {\n",
              "                'plotly': ['https://cdn.plot.ly/plotly-2.8.3.min']\n",
              "            }\n",
              "        });\n",
              "        require(['plotly'], function(Plotly) {\n",
              "            window._Plotly = Plotly;\n",
              "        });\n",
              "        }\n",
              "        </script>\n",
              "        "
            ]
          },
          "metadata": {}
        }
      ],
      "source": [
        "# Imports\n",
        "color = sns.color_palette()\n",
        "%matplotlib inline\n",
        "import plotly.offline as py\n",
        "py.init_notebook_mode(connected=True)\n",
        "import plotly.graph_objs as go\n",
        "import plotly.tools as tls\n",
        "import plotly.express as px"
      ]
    },
    {
      "cell_type": "code",
      "execution_count": 114,
      "metadata": {
        "id": "9TB4Aufr0nuk",
        "colab": {
          "base_uri": "https://localhost:8080/",
          "height": 250
        },
        "outputId": "80584752-a4e9-4161-c40b-02e6ceb5e10f"
      },
      "outputs": [
        {
          "output_type": "stream",
          "name": "stderr",
          "text": [
            "[nltk_data] Downloading package stopwords to /root/nltk_data...\n",
            "[nltk_data]   Package stopwords is already up-to-date!\n"
          ]
        },
        {
          "output_type": "execute_result",
          "data": {
            "text/plain": [
              "True"
            ]
          },
          "metadata": {},
          "execution_count": 114
        },
        {
          "output_type": "execute_result",
          "data": {
            "text/plain": [
              "<matplotlib.image.AxesImage at 0x7f7a32258cd0>"
            ]
          },
          "metadata": {},
          "execution_count": 114
        },
        {
          "output_type": "execute_result",
          "data": {
            "text/plain": [
              "(-0.5, 399.5, 199.5, -0.5)"
            ]
          },
          "metadata": {},
          "execution_count": 114
        },
        {
          "output_type": "display_data",
          "data": {
            "text/plain": [
              "<Figure size 432x288 with 1 Axes>"
            ],
            "image/png": "[encoded data removed]"
          },
          "metadata": {
            "needs_background": "light"
          }
        }
      ],
      "source": [
        "# Following https://towardsdatascience.com/a-beginners-guide-to-sentiment-analysis-in-python-95e354ea84f6\n",
        "nltk.download('stopwords')\n",
        "from nltk.corpus import stopwords\n",
        "from wordcloud import WordCloud \n",
        "\n",
        "\n",
        "# Create stopword list:\n",
        "#stopwords = set(STOPWORDS) #Error check later!!! \n",
        "#stopwords.update([\"br\", \"href\"])\n",
        "stopwords = stopwordlist # Temporary ----\n",
        "textt = ''.join(review for review in df.message)\n",
        "wordcloud = WordCloud(stopwords=stopwords).generate(textt)\n",
        "plt.imshow(wordcloud, interpolation='bilinear')\n",
        "plt.axis(\"off\")\n",
        "plt.savefig('wordcloud11.png')\n",
        "plt.show()"
      ]
    },
    {
      "cell_type": "code",
      "execution_count": 115,
      "metadata": {
        "id": "Rz4Y3roR58LW"
      },
      "outputs": [],
      "source": [
        "# Further Cloud words \n",
        "# Split the data set in each cathegory \n",
        "\n",
        "news = df[df['sentiment'] == 2]\n",
        "positive = df[df['sentiment'] == 1]\n",
        "neutral = df[df['sentiment'] == 0] \n",
        "against = df[df['sentiment'] == -1]\n"
      ]
    },
    {
      "cell_type": "code",
      "execution_count": 116,
      "metadata": {
        "colab": {
          "base_uri": "https://localhost:8080/",
          "height": 215
        },
        "id": "BwbXSSkH7Spz",
        "outputId": "d5bcf105-b8bc-40db-935c-cbac16bc463b"
      },
      "outputs": [
        {
          "output_type": "execute_result",
          "data": {
            "text/plain": [
              "<matplotlib.image.AxesImage at 0x7f7a3233f890>"
            ]
          },
          "metadata": {},
          "execution_count": 116
        },
        {
          "output_type": "execute_result",
          "data": {
            "text/plain": [
              "(-0.5, 399.5, 199.5, -0.5)"
            ]
          },
          "metadata": {},
          "execution_count": 116
        },
        {
          "output_type": "display_data",
          "data": {
            "text/plain": [
              "<Figure size 432x288 with 1 Axes>"
            ],
            "image/png": "[encoded data removed]"
          },
          "metadata": {
            "needs_background": "light"
          }
        }
      ],
      "source": [
        "# Positive\n",
        "#stopwords = set(STOPWORDS) # We need to fix this problem \n",
        "#stopwords.update([\"br\", \"href\",\"good\",\"great\"]) \n",
        "## good and great removed because they were included in negative sentiment\n",
        "\n",
        "from nltk.corpus import stopwords\n",
        "stopwords = nltk.corpus.stopwords.words('english')\n",
        "\n",
        "pos = \" \".join(review for review in positive.message)\n",
        "wordcloud2 = WordCloud(stopwords=stopwords).generate(pos)\n",
        "plt.imshow(wordcloud2, interpolation='bilinear')\n",
        "plt.axis(\"off\")\n",
        "plt.show()"
      ]
    },
    {
      "cell_type": "code",
      "execution_count": 118,
      "metadata": {
        "colab": {
          "base_uri": "https://localhost:8080/",
          "height": 215
        },
        "id": "DcuBJ2_G8JY1",
        "outputId": "98d42e98-bb70-4014-fa68-cc5092616fa0"
      },
      "outputs": [
        {
          "output_type": "execute_result",
          "data": {
            "text/plain": [
              "<matplotlib.image.AxesImage at 0x7f7a30517950>"
            ]
          },
          "metadata": {},
          "execution_count": 118
        },
        {
          "output_type": "execute_result",
          "data": {
            "text/plain": [
              "(-0.5, 399.5, 199.5, -0.5)"
            ]
          },
          "metadata": {},
          "execution_count": 118
        },
        {
          "output_type": "display_data",
          "data": {
            "text/plain": [
              "<Figure size 432x288 with 1 Axes>"
            ],
            "image/png": "[encoded data removed]"
          },
          "metadata": {
            "needs_background": "light"
          }
        }
      ],
      "source": [
        "# Against\n",
        "pos = \" \".join(review for review in against.message)\n",
        "wordcloud2 = WordCloud(stopwords=stopwords).generate(pos)\n",
        "plt.imshow(wordcloud2, interpolation='bilinear')\n",
        "plt.axis(\"off\")\n",
        "plt.show()"
      ]
    },
    {
      "cell_type": "code",
      "execution_count": null,
      "metadata": {
        "id": "Q9lXK7EP8dHY"
      },
      "outputs": [],
      "source": [
        "# We should try to clean it further (check the words: climate change, global...)"
      ]
    },
    {
      "cell_type": "markdown",
      "metadata": {
        "id": "C4mPjOOV89Bo"
      },
      "source": [
        "# 3. Preprocessing the data  "
      ]
    },
    {
      "cell_type": "code",
      "execution_count": 119,
      "metadata": {
        "colab": {
          "base_uri": "https://localhost:8080/"
        },
        "id": "q86KdGrbsL8M",
        "outputId": "cd04649e-59ec-489e-bd18-e7782ab4ae6b"
      },
      "outputs": [
        {
          "output_type": "stream",
          "name": "stdout",
          "text": [
            "Looking in indexes: https://pypi.org/simple, https://us-python.pkg.dev/colab-wheels/public/simple/\n",
            "Requirement already satisfied: better_profanity in /usr/local/lib/python3.7/dist-packages (0.7.0)\n"
          ]
        }
      ],
      "source": [
        "!pip install better_profanity # Install it if needed"
      ]
    },
    {
      "cell_type": "code",
      "execution_count": null,
      "metadata": {
        "id": "Sh1pmOUI-_O3"
      },
      "outputs": [],
      "source": [
        "# Convert the column 'message' in a list \n",
        "\n",
        "message_list = df.message.to_list()\n"
      ]
    },
    {
      "cell_type": "markdown",
      "metadata": {
        "id": "EWkmk5GJAqed"
      },
      "source": [
        "21/09/22\n",
        "Source: https://github.com/Deffro/text-preprocessing-techniques/blob/master/techniques.py \n",
        "\n"
      ]
    },
    {
      "cell_type": "code",
      "execution_count": 120,
      "metadata": {
        "colab": {
          "base_uri": "https://localhost:8080/"
        },
        "id": "L6-j_ZPqFPlq",
        "outputId": "55581c84-8675-48af-f43e-cde66c53c906"
      },
      "outputs": [
        {
          "output_type": "stream",
          "name": "stdout",
          "text": [
            "Looking in indexes: https://pypi.org/simple, https://us-python.pkg.dev/colab-wheels/public/simple/\n",
            "Requirement already satisfied: requests in /usr/local/lib/python3.7/dist-packages (2.23.0)\n",
            "Requirement already satisfied: chardet<4,>=3.0.2 in /usr/local/lib/python3.7/dist-packages (from requests) (3.0.4)\n",
            "Requirement already satisfied: urllib3!=1.25.0,!=1.25.1,<1.26,>=1.21.1 in /usr/local/lib/python3.7/dist-packages (from requests) (1.24.3)\n",
            "Requirement already satisfied: idna<3,>=2.5 in /usr/local/lib/python3.7/dist-packages (from requests) (2.10)\n",
            "Requirement already satisfied: certifi>=2017.4.17 in /usr/local/lib/python3.7/dist-packages (from requests) (2022.9.24)\n"
          ]
        }
      ],
      "source": [
        "!pip install requests # If necessary "
      ]
    },
    {
      "cell_type": "code",
      "execution_count": 121,
      "metadata": {
        "colab": {
          "base_uri": "https://localhost:8080/",
          "height": 54
        },
        "id": "xgV2xwCTCGAs",
        "outputId": "e1459604-28da-4645-e9c7-146388c5e9db"
      },
      "outputs": [
        {
          "output_type": "execute_result",
          "data": {
            "text/plain": [
              "' Copyright 2017, Dimitrios Effrosynidis, All rights reserved. '"
            ],
            "application/vnd.google.colaboratory.intrinsic+json": {
              "type": "string"
            }
          },
          "metadata": {},
          "execution_count": 121
        },
        {
          "output_type": "execute_result",
          "data": {
            "text/plain": [
              "' Replaces contractions from a string to their equivalents '"
            ],
            "application/vnd.google.colaboratory.intrinsic+json": {
              "type": "string"
            }
          },
          "metadata": {},
          "execution_count": 121
        },
        {
          "output_type": "execute_result",
          "data": {
            "text/plain": [
              "' Spell Correction http://norvig.com/spell-correct.html '"
            ],
            "application/vnd.google.colaboratory.intrinsic+json": {
              "type": "string"
            }
          },
          "metadata": {},
          "execution_count": 121
        }
      ],
      "source": [
        "\"\"\" Copyright 2017, Dimitrios Effrosynidis, All rights reserved. \"\"\"\n",
        "# Functions for preprocessing data\n",
        "\n",
        "import re\n",
        "from functools import partial\n",
        "from collections import Counter\n",
        "import nltk\n",
        "from nltk.corpus import wordnet\n",
        "from nltk.corpus import stopwords\n",
        "from nltk.stem import WordNetLemmatizer\n",
        "from nltk.stem.porter import PorterStemmer\n",
        "# For reading the slang document \n",
        "import urllib.request\n",
        "import requests\n",
        "import urllib\n",
        "from urllib.request import urlopen\n",
        "import urllib3\n",
        "\n",
        "def removeUnicode(text):\n",
        "    \"\"\" Removes unicode strings like \"\\u002c\" and \"x96\" \"\"\"\n",
        "    text = re.sub(r'(\\\\u[0-9A-Fa-f]+)',r'', text)       \n",
        "    text = re.sub(r'[^\\x00-\\x7f]',r'',text)\n",
        "    return text\n",
        "\n",
        "def replaceURL(text):\n",
        "    \"\"\" Replaces url address with \"url\" \"\"\"\n",
        "    text = re.sub('((www\\.[^\\s]+)|(https?://[^\\s]+))','url',text)\n",
        "    text = re.sub(r'#([^\\s]+)', r'\\1', text)\n",
        "    return text\n",
        "\n",
        "def replaceAtUser(text):\n",
        "    \"\"\" Replaces \"@user\" with \"atUser\" \"\"\"\n",
        "    text = re.sub('@[^\\s]+','atUser',text)\n",
        "    return text\n",
        "\n",
        "def removeHashtagInFrontOfWord(text):\n",
        "    \"\"\" Removes hastag in front of a word \"\"\"\n",
        "    text = re.sub(r'#([^\\s]+)', r'\\1', text)\n",
        "    return text\n",
        "\n",
        "def removeNumbers(text):\n",
        "    \"\"\" Removes integers \"\"\"\n",
        "    text = ''.join([i for i in text if not i.isdigit()])         \n",
        "    return text\n",
        "\n",
        "def replaceMultiExclamationMark(text):\n",
        "    \"\"\" Replaces repetitions of exlamation marks \"\"\"\n",
        "    text = re.sub(r\"(\\!)\\1+\", ' multiExclamation ', text)\n",
        "    return text\n",
        "\n",
        "def replaceMultiQuestionMark(text):\n",
        "    \"\"\" Replaces repetitions of question marks \"\"\"\n",
        "    text = re.sub(r\"(\\?)\\1+\", ' multiQuestion ', text)\n",
        "    return text\n",
        "\n",
        "def replaceMultiStopMark(text):\n",
        "    \"\"\" Replaces repetitions of stop marks \"\"\"\n",
        "    text = re.sub(r\"(\\.)\\1+\", ' multiStop ', text)\n",
        "    return text\n",
        "\n",
        "def countMultiExclamationMarks(text):\n",
        "    \"\"\" Replaces repetitions of exlamation marks \"\"\"\n",
        "    return len(re.findall(r\"(\\!)\\1+\", text))\n",
        "\n",
        "def countMultiQuestionMarks(text):\n",
        "    \"\"\" Count repetitions of question marks \"\"\"\n",
        "    return len(re.findall(r\"(\\?)\\1+\", text))\n",
        "\n",
        "def countMultiStopMarks(text):\n",
        "    \"\"\" Count repetitions of stop marks \"\"\"\n",
        "    return len(re.findall(r\"(\\.)\\1+\", text))\n",
        "\n",
        "def countElongated(text):\n",
        "    \"\"\" Input: a text, Output: how many words are elongated \"\"\"\n",
        "    regex = re.compile(r\"(.)\\1{2}\")\n",
        "    return len([word for word in text.split() if regex.search(word)])\n",
        "\n",
        "def countAllCaps(text):\n",
        "    \"\"\" Input: a text, Output: how many words are all caps \"\"\"\n",
        "    return len(re.findall(\"[A-Z0-9]{3,}\", text))\n",
        "\n",
        "#\"\"\" Creates a dictionary with slangs and their equivalents and replaces them \"\"\"\n",
        "#slang_url ='https://raw.githubusercontent.com/Deffro/text-preprocessing-techniques/master/slang.txt'\n",
        "#for line in urllib.request.urlopen(slang_url):\n",
        "#    slang_txt = (line.decode('utf-8')) \n",
        "\n",
        "#with open(slang_txt) as file:\n",
        "#    slang_map = dict(map(str.strip, line.partition('\\t')[::2])\n",
        "#    for line in file if line.strip())\n",
        "\n",
        "#slang_words = sorted(slang_map, key=len, reverse=True) # longest first for regex\n",
        "#regex = re.compile(r\"\\b({})\\b\".format(\"|\".join(map(re.escape, slang_words))))\n",
        "#replaceSlang = partial(regex.sub, lambda m: slang_map[m.group(1)])\n",
        "\n",
        "#def countSlang(text):\n",
        "#    \"\"\" Input: a text, Output: how many slang words and a list of found slangs \"\"\"\n",
        "#    slangCounter = 0\n",
        "#    slangsFound = []\n",
        "#    tokens = nltk.word_tokenize(text)\n",
        "#    for word in tokens:\n",
        "#        if word in slang_words:\n",
        "#            slangsFound.append(word)\n",
        "#            slangCounter += 1\n",
        "#    return slangCounter, slangsFound\n",
        "\n",
        "\"\"\" Replaces contractions from a string to their equivalents \"\"\"\n",
        "contraction_patterns = [ (r'won\\'t', 'will not'), (r'can\\'t', 'cannot'), (r'i\\'m', 'i am'), (r'ain\\'t', 'is not'), (r'(\\w+)\\'ll', '\\g<1> will'), (r'(\\w+)n\\'t', '\\g<1> not'),\n",
        "                         (r'(\\w+)\\'ve', '\\g<1> have'), (r'(\\w+)\\'s', '\\g<1> is'), (r'(\\w+)\\'re', '\\g<1> are'), (r'(\\w+)\\'d', '\\g<1> would'), (r'&', 'and'), (r'dammit', 'damn it'), (r'dont', 'do not'), (r'wont', 'will not') ]\n",
        "def replaceContraction(text):\n",
        "    patterns = [(re.compile(regex), repl) for (regex, repl) in contraction_patterns]\n",
        "    for (pattern, repl) in patterns:\n",
        "        (text, count) = re.subn(pattern, repl, text)\n",
        "    return text\n",
        "\n",
        "def replaceElongated(word):\n",
        "    \"\"\" Replaces an elongated word with its basic form, unless the word exists in the lexicon \"\"\"\n",
        "\n",
        "    repeat_regexp = re.compile(r'(\\w*)(\\w)\\2(\\w*)')\n",
        "    repl = r'\\1\\2\\3'\n",
        "    if wordnet.synsets(word):\n",
        "        return word\n",
        "    repl_word = repeat_regexp.sub(repl, word)\n",
        "    if repl_word != word:      \n",
        "        return replaceElongated(repl_word)\n",
        "    else:       \n",
        "        return repl_word\n",
        "\n",
        "def removeEmoticons(text):\n",
        "    \"\"\" Removes emoticons from text \"\"\"\n",
        "    text = re.sub(':\\)|;\\)|:-\\)|\\(-:|:-D|=D|:P|xD|X-p|\\^\\^|:-*|\\^\\.\\^|\\^\\-\\^|\\^\\_\\^|\\,-\\)|\\)-:|:\\'\\(|:\\(|:-\\(|:\\S|T\\.T|\\.\\_\\.|:<|:-\\S|:-<|\\*\\-\\*|:O|=O|=\\-O|O\\.o|XO|O\\_O|:-\\@|=/|:/|X\\-\\(|>\\.<|>=\\(|D:', '', text)\n",
        "    return text\n",
        "\n",
        "def countEmoticons(text):\n",
        "    \"\"\" Input: a text, Output: how many emoticons \"\"\"\n",
        "    return len(re.findall(':\\)|;\\)|:-\\)|\\(-:|:-D|=D|:P|xD|X-p|\\^\\^|:-*|\\^\\.\\^|\\^\\-\\^|\\^\\_\\^|\\,-\\)|\\)-:|:\\'\\(|:\\(|:-\\(|:\\S|T\\.T|\\.\\_\\.|:<|:-\\S|:-<|\\*\\-\\*|:O|=O|=\\-O|O\\.o|XO|O\\_O|:-\\@|=/|:/|X\\-\\(|>\\.<|>=\\(|D:', text))\n",
        "\n",
        "\n",
        "### Spell Correction begin ###\n",
        "\"\"\" Spell Correction http://norvig.com/spell-correct.html \"\"\"\n",
        "def words(text): return re.findall(r'\\w+', text.lower())\n",
        "\n",
        "#WORDS = Counter(words(open('corporaForSpellCorrection.txt').read()))\n",
        "\n",
        "#def P(word, N=sum(WORDS.values())): \n",
        "#    \"\"\"P robability of `word`. \"\"\"\n",
        "#    return WORDS[word] / N\n",
        "\n",
        "def spellCorrection(word): \n",
        "    \"\"\" Most probable spelling correction for word. \"\"\"\n",
        "    return max(candidates(word), key=P)\n",
        "\n",
        "def candidates(word): \n",
        "    \"\"\" Generate possible spelling corrections for word. \"\"\"\n",
        "    return (known([word]) or known(edits1(word)) or known(edits2(word)) or [word])\n",
        "\n",
        "def known(words): \n",
        "    \"\"\" The subset of `words` that appear in the dictionary of WORDS. \"\"\"\n",
        "    return set(w for w in words if w in WORDS)\n",
        "\n",
        "def edits1(word):\n",
        "    \"\"\" All edits that are one edit away from `word`. \"\"\"\n",
        "    letters    = 'abcdefghijklmnopqrstuvwxyz'\n",
        "    splits     = [(word[:i], word[i:])    for i in range(len(word) + 1)]\n",
        "    deletes    = [L + R[1:]               for L, R in splits if R]\n",
        "    transposes = [L + R[1] + R[0] + R[2:] for L, R in splits if len(R)>1]\n",
        "    replaces   = [L + c + R[1:]           for L, R in splits if R for c in letters]\n",
        "    inserts    = [L + c + R               for L, R in splits for c in letters]\n",
        "    return set(deletes + transposes + replaces + inserts)\n",
        "\n",
        "def edits2(word): \n",
        "    \"\"\" All edits that are two edits away from `word`. \"\"\"\n",
        "    return (e2 for e1 in edits1(word) for e2 in edits1(e1))\n",
        "\n",
        "### Spell Correction End ###\n",
        "\n",
        "### Replace Negations Begin ###\n",
        "\n",
        "def replace(word, pos=None):\n",
        "    \"\"\" Creates a set of all antonyms for the word and if there is only one antonym, it returns it \"\"\"\n",
        "    antonyms = set()\n",
        "    for syn in wordnet.synsets(word, pos=pos):\n",
        "      for lemma in syn.lemmas():\n",
        "        for antonym in lemma.antonyms():\n",
        "          antonyms.add(antonym.name())\n",
        "    if len(antonyms) == 1:\n",
        "      return antonyms.pop()\n",
        "    else:\n",
        "      return None\n",
        "\n",
        "def replaceNegations(text):\n",
        "    \"\"\" Finds \"not\" and antonym for the next word and if found, replaces not and the next word with the antonym \"\"\"\n",
        "    i, l = 0, len(text)\n",
        "    words = []\n",
        "    while i < l:\n",
        "      word = text[i]\n",
        "      if word == 'not' and i+1 < l:\n",
        "        ant = replace(text[i+1])\n",
        "        if ant:\n",
        "          words.append(ant)\n",
        "          i += 2\n",
        "          continue\n",
        "      words.append(word)\n",
        "      i += 1\n",
        "    return words\n",
        "\n",
        "### Replace Negations End ###\n",
        "\n",
        "def addNotTag(text):\n",
        "\t\"\"\" Finds \"not,never,no\" and adds the tag NEG_ to all words that follow until the next punctuation \"\"\"\n",
        "\ttransformed = re.sub(r'\\b(?:not|never|no)\\b[\\w\\s]+[^\\w\\s]', \n",
        "       lambda match: re.sub(r'(\\s+)(\\w+)', r'\\1NEG_\\2', match.group(0)), \n",
        "       text,\n",
        "       flags=re.IGNORECASE)\n",
        "\treturn transformed\n",
        "\n",
        "def addCapTag(word):\n",
        "    \"\"\" Finds a word with at least 3 characters capitalized and adds the tag ALL_CAPS_ \"\"\"\n",
        "    if(len(re.findall(\"[A-Z]{3,}\", word))):\n",
        "        word = word.replace('\\\\', '' )\n",
        "        transformed = re.sub(\"[A-Z]{3,}\", \"ALL_CAPS_\"+word, word)\n",
        "        return transformed\n",
        "    else:\n",
        "        return word"
      ]
    },
    {
      "cell_type": "code",
      "execution_count": 122,
      "metadata": {
        "id": "iqD7qKQbO1Y5"
      },
      "outputs": [],
      "source": [
        "# Preprocessing our data set: \n",
        "\n",
        "# 1. Remove Unicode\n",
        "cleaned_list_1 = []\n",
        "for tweet in message_list: \n",
        "  string = removeUnicode(tweet)\n",
        "  cleaned_list_1.append(string)\n",
        "\n",
        "# 2. .Replace URL\n",
        "cleaned_list_2 = []\n",
        "for tweet in cleaned_list_1: \n",
        "  string = replaceURL(tweet)\n",
        "  cleaned_list_2.append(string)\n",
        "\n",
        "# 3. Replace @User\n",
        "cleaned_list_3 = []\n",
        "for tweet in cleaned_list_2: \n",
        "  string = replaceAtUser(tweet)\n",
        "  cleaned_list_3.append(string)\n",
        "\n",
        "# 4. Remove # in front of words \n",
        "cleaned_list_4 = []\n",
        "for tweet in cleaned_list_3: \n",
        "  string = removeHashtagInFrontOfWord(tweet)\n",
        "  cleaned_list_4.append(string)\n",
        "\n",
        "# 5. Remove numbers\n",
        "cleaned_list_5 = []\n",
        "for tweet in cleaned_list_4: \n",
        "  string = removeNumbers(tweet)\n",
        "  cleaned_list_5.append(string)\n",
        "\n",
        "# 6. Replace multi exclamation marks \n",
        "cleaned_list_6 = []\n",
        "for tweet in cleaned_list_5: \n",
        "  string = replaceMultiExclamationMark(tweet)\n",
        "  cleaned_list_6.append(string)\n",
        "\n",
        "# 7. Replace Multi Question Mark\n",
        "cleaned_list_7 = []\n",
        "for tweet in cleaned_list_6: \n",
        "  string = replaceMultiQuestionMark(tweet)\n",
        "  cleaned_list_7.append(string)\n",
        "\n",
        "# 8. Replace multistop Mark\n",
        "cleaned_list_8 = []\n",
        "for tweet in cleaned_list_7: \n",
        "  string = replaceMultiStopMark(tweet)\n",
        "  cleaned_list_8.append(string)\n",
        "\n",
        "# 9. Deal with slang\n",
        "cleaned_list_9 = []\n",
        "for tweet in cleaned_list_8: \n",
        "  string = replaceContraction(tweet)\n",
        "  cleaned_list_9.append(string)\n",
        "\n",
        "# We Skiped replaceElongated(word) It doesn't work on our data set.\n",
        "\n",
        "# 10. Remove emoticons \n",
        "cleaned_list_10 = []\n",
        "for tweet in cleaned_list_9: \n",
        "  string = removeEmoticons(tweet)\n",
        "  cleaned_list_10.append(string)\n",
        "\n",
        "# 11. Replace negations\n",
        "\n",
        "#cleaned_list_11 = [] \n",
        "\n",
        "#Doesn't work \n",
        "#for tweet in cleaned_list_10: \n",
        "#  string = replaceNegations(tweet)\n",
        "#  cleaned_list_11.append(string)"
      ]
    },
    {
      "cell_type": "code",
      "execution_count": 123,
      "metadata": {
        "colab": {
          "base_uri": "https://localhost:8080/"
        },
        "id": "8tYvOfhpHtdp",
        "outputId": "3e8c897c-78a6-4b7a-c72a-c35eb6202ed9"
      },
      "outputs": [
        {
          "output_type": "execute_result",
          "data": {
            "text/plain": [
              "['atUser climate change is an interesting hustle as it was global warming but the planet stopped warming for  yes while the suv boom']"
            ]
          },
          "metadata": {},
          "execution_count": 123
        }
      ],
      "source": [
        "# View the first elements of the list. \n",
        "cleaned_list_10[0:1]\n"
      ]
    },
    {
      "cell_type": "markdown",
      "metadata": {
        "id": "Mqv1OcjQ5iAm"
      },
      "source": [
        "3.2: Join the list in a new df with the sentiments column"
      ]
    },
    {
      "cell_type": "code",
      "execution_count": 132,
      "metadata": {
        "colab": {
          "base_uri": "https://localhost:8080/",
          "height": 363
        },
        "id": "v2ZTyUcozc6O",
        "outputId": "d934b05c-8028-4777-eb44-4905b95748e0"
      },
      "outputs": [
        {
          "output_type": "execute_result",
          "data": {
            "text/plain": [
              "   sentiment                                            message\n",
              "0         -1  atUser climate change is an interesting hustle...\n",
              "1          1  RT atUser Watch BeforeTheFlood right here, as ...\n",
              "2          1  Fabulous! Leonardo DiCaprio is film on climate...\n",
              "3          1  RT atUser Just watched this amazing documentar...\n",
              "4          2  RT atUser Pranita Biswasi, a Lutheran from Odi...\n",
              "5          0  Unamshow awache kujinga na iko global warming url\n",
              "6          2  RT atUser Pranita Biswasi, a Lutheran from Odi...\n",
              "7          2  RT atUser Presidential Candidate DonaldTrump i...\n",
              "8          0  RT atUser Leonardo DiCaprio is climate change ...\n",
              "9          1  BeforeTheFlood Watch BeforeTheFlood right here..."
            ],
            "text/html": [
              "\n",
              "  <div id=\"df-851dc1d4-9b63-43d8-af2b-d23978676f7e\">\n",
              "    <div class=\"colab-df-container\">\n",
              "      <div>\n",
              "<style scoped>\n",
              "    .dataframe tbody tr th:only-of-type {\n",
              "        vertical-align: middle;\n",
              "    }\n",
              "\n",
              "    .dataframe tbody tr th {\n",
              "        vertical-align: top;\n",
              "    }\n",
              "\n",
              "    .dataframe thead th {\n",
              "        text-align: right;\n",
              "    }\n",
              "</style>\n",
              "<table border=\"1\" class=\"dataframe\">\n",
              "  <thead>\n",
              "    <tr style=\"text-align: right;\">\n",
              "      <th></th>\n",
              "      <th>sentiment</th>\n",
              "      <th>message</th>\n",
              "    </tr>\n",
              "  </thead>\n",
              "  <tbody>\n",
              "    <tr>\n",
              "      <th>0</th>\n",
              "      <td>-1</td>\n",
              "      <td>atUser climate change is an interesting hustle...</td>\n",
              "    </tr>\n",
              "    <tr>\n",
              "      <th>1</th>\n",
              "      <td>1</td>\n",
              "      <td>RT atUser Watch BeforeTheFlood right here, as ...</td>\n",
              "    </tr>\n",
              "    <tr>\n",
              "      <th>2</th>\n",
              "      <td>1</td>\n",
              "      <td>Fabulous! Leonardo DiCaprio is film on climate...</td>\n",
              "    </tr>\n",
              "    <tr>\n",
              "      <th>3</th>\n",
              "      <td>1</td>\n",
              "      <td>RT atUser Just watched this amazing documentar...</td>\n",
              "    </tr>\n",
              "    <tr>\n",
              "      <th>4</th>\n",
              "      <td>2</td>\n",
              "      <td>RT atUser Pranita Biswasi, a Lutheran from Odi...</td>\n",
              "    </tr>\n",
              "    <tr>\n",
              "      <th>5</th>\n",
              "      <td>0</td>\n",
              "      <td>Unamshow awache kujinga na iko global warming url</td>\n",
              "    </tr>\n",
              "    <tr>\n",
              "      <th>6</th>\n",
              "      <td>2</td>\n",
              "      <td>RT atUser Pranita Biswasi, a Lutheran from Odi...</td>\n",
              "    </tr>\n",
              "    <tr>\n",
              "      <th>7</th>\n",
              "      <td>2</td>\n",
              "      <td>RT atUser Presidential Candidate DonaldTrump i...</td>\n",
              "    </tr>\n",
              "    <tr>\n",
              "      <th>8</th>\n",
              "      <td>0</td>\n",
              "      <td>RT atUser Leonardo DiCaprio is climate change ...</td>\n",
              "    </tr>\n",
              "    <tr>\n",
              "      <th>9</th>\n",
              "      <td>1</td>\n",
              "      <td>BeforeTheFlood Watch BeforeTheFlood right here...</td>\n",
              "    </tr>\n",
              "  </tbody>\n",
              "</table>\n",
              "</div>\n",
              "      <button class=\"colab-df-convert\" onclick=\"convertToInteractive('df-851dc1d4-9b63-43d8-af2b-d23978676f7e')\"\n",
              "              title=\"Convert this dataframe to an interactive table.\"\n",
              "              style=\"display:none;\">\n",
              "        \n",
              "  <svg xmlns=\"http://www.w3.org/2000/svg\" height=\"24px\"viewBox=\"0 0 24 24\"\n",
              "       width=\"24px\">\n",
              "    <path d=\"M0 0h24v24H0V0z\" fill=\"none\"/>\n",
              "    <path d=\"M18.56 5.44l.94 2.06.94-2.06 2.06-.94-2.06-.94-.94-2.06-.94 2.06-2.06.94zm-11 1L8.5 8.5l.94-2.06 2.06-.94-2.06-.94L8.5 2.5l-.94 2.06-2.06.94zm10 10l.94 2.06.94-2.06 2.06-.94-2.06-.94-.94-2.06-.94 2.06-2.06.94z\"/><path d=\"M17.41 7.96l-1.37-1.37c-.4-.4-.92-.59-1.43-.59-.52 0-1.04.2-1.43.59L10.3 9.45l-7.72 7.72c-.78.78-.78 2.05 0 2.83L4 21.41c.39.39.9.59 1.41.59.51 0 1.02-.2 1.41-.59l7.78-7.78 2.81-2.81c.8-.78.8-2.07 0-2.86zM5.41 20L4 18.59l7.72-7.72 1.47 1.35L5.41 20z\"/>\n",
              "  </svg>\n",
              "      </button>\n",
              "      \n",
              "  <style>\n",
              "    .colab-df-container {\n",
              "      display:flex;\n",
              "      flex-wrap:wrap;\n",
              "      gap: 12px;\n",
              "    }\n",
              "\n",
              "    .colab-df-convert {\n",
              "      background-color: #E8F0FE;\n",
              "      border: none;\n",
              "      border-radius: 50%;\n",
              "      cursor: pointer;\n",
              "      display: none;\n",
              "      fill: #1967D2;\n",
              "      height: 32px;\n",
              "      padding: 0 0 0 0;\n",
              "      width: 32px;\n",
              "    }\n",
              "\n",
              "    .colab-df-convert:hover {\n",
              "      background-color: #E2EBFA;\n",
              "      box-shadow: 0px 1px 2px rgba(60, 64, 67, 0.3), 0px 1px 3px 1px rgba(60, 64, 67, 0.15);\n",
              "      fill: #174EA6;\n",
              "    }\n",
              "\n",
              "    [theme=dark] .colab-df-convert {\n",
              "      background-color: #3B4455;\n",
              "      fill: #D2E3FC;\n",
              "    }\n",
              "\n",
              "    [theme=dark] .colab-df-convert:hover {\n",
              "      background-color: #434B5C;\n",
              "      box-shadow: 0px 1px 3px 1px rgba(0, 0, 0, 0.15);\n",
              "      filter: drop-shadow(0px 1px 2px rgba(0, 0, 0, 0.3));\n",
              "      fill: #FFFFFF;\n",
              "    }\n",
              "  </style>\n",
              "\n",
              "      <script>\n",
              "        const buttonEl =\n",
              "          document.querySelector('#df-851dc1d4-9b63-43d8-af2b-d23978676f7e button.colab-df-convert');\n",
              "        buttonEl.style.display =\n",
              "          google.colab.kernel.accessAllowed ? 'block' : 'none';\n",
              "\n",
              "        async function convertToInteractive(key) {\n",
              "          const element = document.querySelector('#df-851dc1d4-9b63-43d8-af2b-d23978676f7e');\n",
              "          const dataTable =\n",
              "            await google.colab.kernel.invokeFunction('convertToInteractive',\n",
              "                                                     [key], {});\n",
              "          if (!dataTable) return;\n",
              "\n",
              "          const docLinkHtml = 'Like what you see? Visit the ' +\n",
              "            '<a target=\"_blank\" href=https://colab.research.google.com/notebooks/data_table.ipynb>data table notebook</a>'\n",
              "            + ' to learn more about interactive tables.';\n",
              "          element.innerHTML = '';\n",
              "          dataTable['output_type'] = 'display_data';\n",
              "          await google.colab.output.renderOutput(dataTable, element);\n",
              "          const docLink = document.createElement('div');\n",
              "          docLink.innerHTML = docLinkHtml;\n",
              "          element.appendChild(docLink);\n",
              "        }\n",
              "      </script>\n",
              "    </div>\n",
              "  </div>\n",
              "  "
            ]
          },
          "metadata": {},
          "execution_count": 132
        }
      ],
      "source": [
        "# Join list in a new df with the sentiments. \n",
        "# We need to join: 'df.sentiment' & 'cleaned_list_10'\n",
        "\n",
        "df2 = pd.DataFrame(list(zip(df.sentiment, cleaned_list_10)),\n",
        "                   columns = ['sentiment', 'message'])\n",
        "df2.head(10)"
      ]
    },
    {
      "cell_type": "markdown",
      "metadata": {
        "id": "46Qhx6L3lseo"
      },
      "source": [
        "Lemmatizing"
      ]
    },
    {
      "cell_type": "code",
      "source": [
        "#nlp = spacy.load('en')\n",
        "nltk.download('punkt')\n",
        "nltk.download('wordnet')\n",
        "nltk.download('stopwords')\n",
        "nltk.download('averaged_perceptron_tagger')\n",
        "nltk.download('omw-1.4')\n",
        "\n",
        "# Preprocessing\n",
        "import en_core_web_sm\n",
        "from collections import Counter\n",
        "from nltk.probability import FreqDist\n",
        "from nltk.tokenize import word_tokenize\n",
        "from nltk.stem import WordNetLemmatizer \n",
        "from nltk.corpus import stopwords, wordnet  \n",
        "from sklearn.feature_extraction.text import CountVectorizer   \n",
        "from sklearn.feature_extraction.text import TfidfVectorizer\n",
        "from sklearn.feature_extraction.text import TfidfTransformer \n",
        "from sklearn.model_selection import train_test_split, RandomizedSearchCV\n"
      ],
      "metadata": {
        "colab": {
          "base_uri": "https://localhost:8080/"
        },
        "id": "xliKEmXmxghg",
        "outputId": "bbce27c1-97f3-47c0-dd21-84cb2d1f25fb"
      },
      "execution_count": 134,
      "outputs": [
        {
          "output_type": "stream",
          "name": "stderr",
          "text": [
            "[nltk_data] Downloading package punkt to /root/nltk_data...\n",
            "[nltk_data]   Package punkt is already up-to-date!\n"
          ]
        },
        {
          "output_type": "execute_result",
          "data": {
            "text/plain": [
              "True"
            ]
          },
          "metadata": {},
          "execution_count": 134
        },
        {
          "output_type": "stream",
          "name": "stderr",
          "text": [
            "[nltk_data] Downloading package wordnet to /root/nltk_data...\n",
            "[nltk_data]   Package wordnet is already up-to-date!\n"
          ]
        },
        {
          "output_type": "execute_result",
          "data": {
            "text/plain": [
              "True"
            ]
          },
          "metadata": {},
          "execution_count": 134
        },
        {
          "output_type": "stream",
          "name": "stderr",
          "text": [
            "[nltk_data] Downloading package stopwords to /root/nltk_data...\n",
            "[nltk_data]   Package stopwords is already up-to-date!\n"
          ]
        },
        {
          "output_type": "execute_result",
          "data": {
            "text/plain": [
              "True"
            ]
          },
          "metadata": {},
          "execution_count": 134
        },
        {
          "output_type": "stream",
          "name": "stderr",
          "text": [
            "[nltk_data] Downloading package averaged_perceptron_tagger to\n",
            "[nltk_data]     /root/nltk_data...\n",
            "[nltk_data]   Package averaged_perceptron_tagger is already up-to-\n",
            "[nltk_data]       date!\n"
          ]
        },
        {
          "output_type": "execute_result",
          "data": {
            "text/plain": [
              "True"
            ]
          },
          "metadata": {},
          "execution_count": 134
        },
        {
          "output_type": "stream",
          "name": "stderr",
          "text": [
            "[nltk_data] Downloading package omw-1.4 to /root/nltk_data...\n"
          ]
        },
        {
          "output_type": "execute_result",
          "data": {
            "text/plain": [
              "True"
            ]
          },
          "metadata": {},
          "execution_count": 134
        }
      ]
    },
    {
      "cell_type": "code",
      "source": [
        "def lemma(df):\n",
        "  df['length'] = df['message'].str.len()\n",
        "  df['tokenized'] = df['message'].apply(word_tokenize)\n",
        "  df['pos_tags'] = df['tokenized'].apply(nltk.tag.pos_tag)\n",
        "  \n",
        "  def get_wordnet_pos(tag):\n",
        "    \n",
        "    if tag.startswith('J'):\n",
        "      return wordnet.ADJ\n",
        "\n",
        "    elif tag.startswith('V'):\n",
        "      return wordnet.VERB\n",
        "\n",
        "    elif tag.startswith('N'):\n",
        "      return wordnet.NOUN\n",
        "\n",
        "    elif tag.startswith('R'):\n",
        "      return wordnet.ADV\n",
        "    \n",
        "    else:\n",
        "      return wordnet.NOUN\n",
        "    \n",
        "  wnl = WordNetLemmatizer()\n",
        "  df['pos_tags'] = df['pos_tags'].apply(lambda x: [(word, get_wordnet_pos(pos_tag)) for (word, pos_tag) in x])\n",
        "  df['lemmatized'] = df['pos_tags'].apply(lambda x: [wnl.lemmatize(word, tag) for word, tag in x])\n",
        "  df['lemmatized'] = [' '.join(map(str, l)) for l in df['lemmatized']]  \n",
        "  return df\n",
        "\n",
        "df2 = lemma(df2)\n",
        "df2.head()"
      ],
      "metadata": {
        "colab": {
          "base_uri": "https://localhost:8080/",
          "height": 302
        },
        "id": "ZNFl1BWTxYes",
        "outputId": "420a871c-b4de-476d-91cf-b501fb03e995"
      },
      "execution_count": 135,
      "outputs": [
        {
          "output_type": "execute_result",
          "data": {
            "text/plain": [
              "   sentiment                                            message  length  \\\n",
              "0         -1  atUser climate change is an interesting hustle...     130   \n",
              "1          1  RT atUser Watch BeforeTheFlood right here, as ...     103   \n",
              "2          1  Fabulous! Leonardo DiCaprio is film on climate...     109   \n",
              "3          1  RT atUser Just watched this amazing documentar...     108   \n",
              "4          2  RT atUser Pranita Biswasi, a Lutheran from Odi...     131   \n",
              "\n",
              "                                           tokenized  \\\n",
              "0  [atUser, climate, change, is, an, interesting,...   \n",
              "1  [RT, atUser, Watch, BeforeTheFlood, right, her...   \n",
              "2  [Fabulous, !, Leonardo, DiCaprio, is, film, on...   \n",
              "3  [RT, atUser, Just, watched, this, amazing, doc...   \n",
              "4  [RT, atUser, Pranita, Biswasi, ,, a, Lutheran,...   \n",
              "\n",
              "                                            pos_tags  \\\n",
              "0  [(atUser, n), (climate, n), (change, n), (is, ...   \n",
              "1  [(RT, n), (atUser, n), (Watch, n), (BeforeTheF...   \n",
              "2  [(Fabulous, a), (!, n), (Leonardo, n), (DiCapr...   \n",
              "3  [(RT, n), (atUser, n), (Just, n), (watched, v)...   \n",
              "4  [(RT, n), (atUser, n), (Pranita, n), (Biswasi,...   \n",
              "\n",
              "                                          lemmatized  \n",
              "0  atUser climate change be an interesting hustle...  \n",
              "1  RT atUser Watch BeforeTheFlood right here , a ...  \n",
              "2  Fabulous ! Leonardo DiCaprio be film on climat...  \n",
              "3  RT atUser Just watch this amazing documentary ...  \n",
              "4  RT atUser Pranita Biswasi , a Lutheran from Od...  "
            ],
            "text/html": [
              "\n",
              "  <div id=\"df-8896980c-c160-4209-9400-7ff0698f93fd\">\n",
              "    <div class=\"colab-df-container\">\n",
              "      <div>\n",
              "<style scoped>\n",
              "    .dataframe tbody tr th:only-of-type {\n",
              "        vertical-align: middle;\n",
              "    }\n",
              "\n",
              "    .dataframe tbody tr th {\n",
              "        vertical-align: top;\n",
              "    }\n",
              "\n",
              "    .dataframe thead th {\n",
              "        text-align: right;\n",
              "    }\n",
              "</style>\n",
              "<table border=\"1\" class=\"dataframe\">\n",
              "  <thead>\n",
              "    <tr style=\"text-align: right;\">\n",
              "      <th></th>\n",
              "      <th>sentiment</th>\n",
              "      <th>message</th>\n",
              "      <th>length</th>\n",
              "      <th>tokenized</th>\n",
              "      <th>pos_tags</th>\n",
              "      <th>lemmatized</th>\n",
              "    </tr>\n",
              "  </thead>\n",
              "  <tbody>\n",
              "    <tr>\n",
              "      <th>0</th>\n",
              "      <td>-1</td>\n",
              "      <td>atUser climate change is an interesting hustle...</td>\n",
              "      <td>130</td>\n",
              "      <td>[atUser, climate, change, is, an, interesting,...</td>\n",
              "      <td>[(atUser, n), (climate, n), (change, n), (is, ...</td>\n",
              "      <td>atUser climate change be an interesting hustle...</td>\n",
              "    </tr>\n",
              "    <tr>\n",
              "      <th>1</th>\n",
              "      <td>1</td>\n",
              "      <td>RT atUser Watch BeforeTheFlood right here, as ...</td>\n",
              "      <td>103</td>\n",
              "      <td>[RT, atUser, Watch, BeforeTheFlood, right, her...</td>\n",
              "      <td>[(RT, n), (atUser, n), (Watch, n), (BeforeTheF...</td>\n",
              "      <td>RT atUser Watch BeforeTheFlood right here , a ...</td>\n",
              "    </tr>\n",
              "    <tr>\n",
              "      <th>2</th>\n",
              "      <td>1</td>\n",
              "      <td>Fabulous! Leonardo DiCaprio is film on climate...</td>\n",
              "      <td>109</td>\n",
              "      <td>[Fabulous, !, Leonardo, DiCaprio, is, film, on...</td>\n",
              "      <td>[(Fabulous, a), (!, n), (Leonardo, n), (DiCapr...</td>\n",
              "      <td>Fabulous ! Leonardo DiCaprio be film on climat...</td>\n",
              "    </tr>\n",
              "    <tr>\n",
              "      <th>3</th>\n",
              "      <td>1</td>\n",
              "      <td>RT atUser Just watched this amazing documentar...</td>\n",
              "      <td>108</td>\n",
              "      <td>[RT, atUser, Just, watched, this, amazing, doc...</td>\n",
              "      <td>[(RT, n), (atUser, n), (Just, n), (watched, v)...</td>\n",
              "      <td>RT atUser Just watch this amazing documentary ...</td>\n",
              "    </tr>\n",
              "    <tr>\n",
              "      <th>4</th>\n",
              "      <td>2</td>\n",
              "      <td>RT atUser Pranita Biswasi, a Lutheran from Odi...</td>\n",
              "      <td>131</td>\n",
              "      <td>[RT, atUser, Pranita, Biswasi, ,, a, Lutheran,...</td>\n",
              "      <td>[(RT, n), (atUser, n), (Pranita, n), (Biswasi,...</td>\n",
              "      <td>RT atUser Pranita Biswasi , a Lutheran from Od...</td>\n",
              "    </tr>\n",
              "  </tbody>\n",
              "</table>\n",
              "</div>\n",
              "      <button class=\"colab-df-convert\" onclick=\"convertToInteractive('df-8896980c-c160-4209-9400-7ff0698f93fd')\"\n",
              "              title=\"Convert this dataframe to an interactive table.\"\n",
              "              style=\"display:none;\">\n",
              "        \n",
              "  <svg xmlns=\"http://www.w3.org/2000/svg\" height=\"24px\"viewBox=\"0 0 24 24\"\n",
              "       width=\"24px\">\n",
              "    <path d=\"M0 0h24v24H0V0z\" fill=\"none\"/>\n",
              "    <path d=\"M18.56 5.44l.94 2.06.94-2.06 2.06-.94-2.06-.94-.94-2.06-.94 2.06-2.06.94zm-11 1L8.5 8.5l.94-2.06 2.06-.94-2.06-.94L8.5 2.5l-.94 2.06-2.06.94zm10 10l.94 2.06.94-2.06 2.06-.94-2.06-.94-.94-2.06-.94 2.06-2.06.94z\"/><path d=\"M17.41 7.96l-1.37-1.37c-.4-.4-.92-.59-1.43-.59-.52 0-1.04.2-1.43.59L10.3 9.45l-7.72 7.72c-.78.78-.78 2.05 0 2.83L4 21.41c.39.39.9.59 1.41.59.51 0 1.02-.2 1.41-.59l7.78-7.78 2.81-2.81c.8-.78.8-2.07 0-2.86zM5.41 20L4 18.59l7.72-7.72 1.47 1.35L5.41 20z\"/>\n",
              "  </svg>\n",
              "      </button>\n",
              "      \n",
              "  <style>\n",
              "    .colab-df-container {\n",
              "      display:flex;\n",
              "      flex-wrap:wrap;\n",
              "      gap: 12px;\n",
              "    }\n",
              "\n",
              "    .colab-df-convert {\n",
              "      background-color: #E8F0FE;\n",
              "      border: none;\n",
              "      border-radius: 50%;\n",
              "      cursor: pointer;\n",
              "      display: none;\n",
              "      fill: #1967D2;\n",
              "      height: 32px;\n",
              "      padding: 0 0 0 0;\n",
              "      width: 32px;\n",
              "    }\n",
              "\n",
              "    .colab-df-convert:hover {\n",
              "      background-color: #E2EBFA;\n",
              "      box-shadow: 0px 1px 2px rgba(60, 64, 67, 0.3), 0px 1px 3px 1px rgba(60, 64, 67, 0.15);\n",
              "      fill: #174EA6;\n",
              "    }\n",
              "\n",
              "    [theme=dark] .colab-df-convert {\n",
              "      background-color: #3B4455;\n",
              "      fill: #D2E3FC;\n",
              "    }\n",
              "\n",
              "    [theme=dark] .colab-df-convert:hover {\n",
              "      background-color: #434B5C;\n",
              "      box-shadow: 0px 1px 3px 1px rgba(0, 0, 0, 0.15);\n",
              "      filter: drop-shadow(0px 1px 2px rgba(0, 0, 0, 0.3));\n",
              "      fill: #FFFFFF;\n",
              "    }\n",
              "  </style>\n",
              "\n",
              "      <script>\n",
              "        const buttonEl =\n",
              "          document.querySelector('#df-8896980c-c160-4209-9400-7ff0698f93fd button.colab-df-convert');\n",
              "        buttonEl.style.display =\n",
              "          google.colab.kernel.accessAllowed ? 'block' : 'none';\n",
              "\n",
              "        async function convertToInteractive(key) {\n",
              "          const element = document.querySelector('#df-8896980c-c160-4209-9400-7ff0698f93fd');\n",
              "          const dataTable =\n",
              "            await google.colab.kernel.invokeFunction('convertToInteractive',\n",
              "                                                     [key], {});\n",
              "          if (!dataTable) return;\n",
              "\n",
              "          const docLinkHtml = 'Like what you see? Visit the ' +\n",
              "            '<a target=\"_blank\" href=https://colab.research.google.com/notebooks/data_table.ipynb>data table notebook</a>'\n",
              "            + ' to learn more about interactive tables.';\n",
              "          element.innerHTML = '';\n",
              "          dataTable['output_type'] = 'display_data';\n",
              "          await google.colab.output.renderOutput(dataTable, element);\n",
              "          const docLink = document.createElement('div');\n",
              "          docLink.innerHTML = docLinkHtml;\n",
              "          element.appendChild(docLink);\n",
              "        }\n",
              "      </script>\n",
              "    </div>\n",
              "  </div>\n",
              "  "
            ]
          },
          "metadata": {},
          "execution_count": 135
        }
      ]
    },
    {
      "cell_type": "markdown",
      "metadata": {
        "id": "7ziViEX5AKui"
      },
      "source": [
        "Word Frequency"
      ]
    },
    {
      "cell_type": "code",
      "execution_count": 142,
      "metadata": {
        "id": "spZ-ARutAKM0"
      },
      "outputs": [],
      "source": [
        "# This function determines the frequency of each word in a collection of tweets \n",
        "#  and stores the 25 most frequent words in a dataframe, \n",
        "#   sorted from most to least frequent\n",
        "\n",
        "from sklearn.feature_extraction.text import CountVectorizer \n",
        "\n",
        "def frequency(tweet):\n",
        "  # Count vectorizer excluding english stopwords\n",
        "  cv = CountVectorizer(stop_words='english')\n",
        "  words = cv.fit_transform(tweet)\n",
        "    \n",
        "  # Count the words in the tweets and determine the frequency of each word\n",
        "  sum_words = words.sum(axis=0)\n",
        "  words_freq = [(word, sum_words[0, i]) for word, i in cv.vocabulary_.items()]\n",
        "  words_freq = sorted(words_freq, key=lambda x: x[1], reverse=True)\n",
        "    \n",
        "  # Create a dataframe to store the top 25 words and their frequencies\n",
        "  frequency = pd.DataFrame(words_freq, columns=['word', 'freq'])\n",
        "  frequency = frequency.head(25)\n",
        "    \n",
        "  return frequency\n",
        "\n",
        "# Extract the top 25 words in each class\n",
        "pro_frequency = frequency(df2['lemmatized'][df2['sentiment']==1])\n",
        "anti_frequency = frequency(df2['lemmatized'][df2['sentiment']==-1])\n",
        "news_frequency = frequency(df2['lemmatized'][df2['sentiment']==2])\n",
        "neutral_frequency = frequency(df2['lemmatized'][df2['sentiment']==0])"
      ]
    },
    {
      "cell_type": "code",
      "source": [
        "# Extract the words in the tweets for the pro and anti climate change classes \n",
        "anti_words = ' '.join([text for text in anti_frequency['word']])\n",
        "pro_words = ' '.join([text for text in pro_frequency['word']])\n",
        "news_words = ' '.join([text for text in news_frequency['word']])\n",
        "neutral_words = ' '.join([text for text in neutral_frequency['word']])\n",
        "\n",
        "# Create wordcloud for the anti climate change class\n",
        "anti_wordcloud = WordCloud(width=800, \n",
        "                           height=500, \n",
        "                           random_state=110, \n",
        "                           max_font_size=110, \n",
        "                           background_color='white',\n",
        "                           colormap=\"Reds\").generate(anti_words)\n",
        "\n",
        "# Create wordcolud for the pro climate change class\n",
        "pro_wordcloud = WordCloud(width=800, \n",
        "                          height=500, \n",
        "                          random_state=73, \n",
        "                          max_font_size=110, \n",
        "                          background_color='white',\n",
        "                          colormap=\"Greens\").generate(pro_words)\n",
        "\n",
        "# Create wordcolud for the news climate change class\n",
        "news_wordcloud = WordCloud(width=800, \n",
        "                          height=500, \n",
        "                          random_state=0, \n",
        "                          max_font_size=110, \n",
        "                          background_color='white',\n",
        "                          colormap=\"Blues\").generate(news_words)\n",
        "\n",
        "# Create wordcolud for the neutral climate change class\n",
        "neutral_wordcloud = WordCloud(width=800, \n",
        "                          height=500, \n",
        "                          random_state=10, \n",
        "                          max_font_size=110, \n",
        "                          background_color='white',\n",
        "                          colormap=\"Oranges\").generate(neutral_words)\n",
        "\n",
        "pro_frequency.tail()"
      ],
      "metadata": {
        "colab": {
          "base_uri": "https://localhost:8080/",
          "height": 206
        },
        "id": "9PvZw3-h6zNM",
        "outputId": "8564ebdc-8317-4f29-f9a1-fd952889191d"
      },
      "execution_count": 143,
      "outputs": [
        {
          "output_type": "execute_result",
          "data": {
            "text/plain": [
              "         word  freq\n",
              "20     denier   827\n",
              "21       like   805\n",
              "22  president   779\n",
              "23        die   749\n",
              "24        new   731"
            ],
            "text/html": [
              "\n",
              "  <div id=\"df-46aaef98-61a7-47db-87a0-5e3ea33a64ec\">\n",
              "    <div class=\"colab-df-container\">\n",
              "      <div>\n",
              "<style scoped>\n",
              "    .dataframe tbody tr th:only-of-type {\n",
              "        vertical-align: middle;\n",
              "    }\n",
              "\n",
              "    .dataframe tbody tr th {\n",
              "        vertical-align: top;\n",
              "    }\n",
              "\n",
              "    .dataframe thead th {\n",
              "        text-align: right;\n",
              "    }\n",
              "</style>\n",
              "<table border=\"1\" class=\"dataframe\">\n",
              "  <thead>\n",
              "    <tr style=\"text-align: right;\">\n",
              "      <th></th>\n",
              "      <th>word</th>\n",
              "      <th>freq</th>\n",
              "    </tr>\n",
              "  </thead>\n",
              "  <tbody>\n",
              "    <tr>\n",
              "      <th>20</th>\n",
              "      <td>denier</td>\n",
              "      <td>827</td>\n",
              "    </tr>\n",
              "    <tr>\n",
              "      <th>21</th>\n",
              "      <td>like</td>\n",
              "      <td>805</td>\n",
              "    </tr>\n",
              "    <tr>\n",
              "      <th>22</th>\n",
              "      <td>president</td>\n",
              "      <td>779</td>\n",
              "    </tr>\n",
              "    <tr>\n",
              "      <th>23</th>\n",
              "      <td>die</td>\n",
              "      <td>749</td>\n",
              "    </tr>\n",
              "    <tr>\n",
              "      <th>24</th>\n",
              "      <td>new</td>\n",
              "      <td>731</td>\n",
              "    </tr>\n",
              "  </tbody>\n",
              "</table>\n",
              "</div>\n",
              "      <button class=\"colab-df-convert\" onclick=\"convertToInteractive('df-46aaef98-61a7-47db-87a0-5e3ea33a64ec')\"\n",
              "              title=\"Convert this dataframe to an interactive table.\"\n",
              "              style=\"display:none;\">\n",
              "        \n",
              "  <svg xmlns=\"http://www.w3.org/2000/svg\" height=\"24px\"viewBox=\"0 0 24 24\"\n",
              "       width=\"24px\">\n",
              "    <path d=\"M0 0h24v24H0V0z\" fill=\"none\"/>\n",
              "    <path d=\"M18.56 5.44l.94 2.06.94-2.06 2.06-.94-2.06-.94-.94-2.06-.94 2.06-2.06.94zm-11 1L8.5 8.5l.94-2.06 2.06-.94-2.06-.94L8.5 2.5l-.94 2.06-2.06.94zm10 10l.94 2.06.94-2.06 2.06-.94-2.06-.94-.94-2.06-.94 2.06-2.06.94z\"/><path d=\"M17.41 7.96l-1.37-1.37c-.4-.4-.92-.59-1.43-.59-.52 0-1.04.2-1.43.59L10.3 9.45l-7.72 7.72c-.78.78-.78 2.05 0 2.83L4 21.41c.39.39.9.59 1.41.59.51 0 1.02-.2 1.41-.59l7.78-7.78 2.81-2.81c.8-.78.8-2.07 0-2.86zM5.41 20L4 18.59l7.72-7.72 1.47 1.35L5.41 20z\"/>\n",
              "  </svg>\n",
              "      </button>\n",
              "      \n",
              "  <style>\n",
              "    .colab-df-container {\n",
              "      display:flex;\n",
              "      flex-wrap:wrap;\n",
              "      gap: 12px;\n",
              "    }\n",
              "\n",
              "    .colab-df-convert {\n",
              "      background-color: #E8F0FE;\n",
              "      border: none;\n",
              "      border-radius: 50%;\n",
              "      cursor: pointer;\n",
              "      display: none;\n",
              "      fill: #1967D2;\n",
              "      height: 32px;\n",
              "      padding: 0 0 0 0;\n",
              "      width: 32px;\n",
              "    }\n",
              "\n",
              "    .colab-df-convert:hover {\n",
              "      background-color: #E2EBFA;\n",
              "      box-shadow: 0px 1px 2px rgba(60, 64, 67, 0.3), 0px 1px 3px 1px rgba(60, 64, 67, 0.15);\n",
              "      fill: #174EA6;\n",
              "    }\n",
              "\n",
              "    [theme=dark] .colab-df-convert {\n",
              "      background-color: #3B4455;\n",
              "      fill: #D2E3FC;\n",
              "    }\n",
              "\n",
              "    [theme=dark] .colab-df-convert:hover {\n",
              "      background-color: #434B5C;\n",
              "      box-shadow: 0px 1px 3px 1px rgba(0, 0, 0, 0.15);\n",
              "      filter: drop-shadow(0px 1px 2px rgba(0, 0, 0, 0.3));\n",
              "      fill: #FFFFFF;\n",
              "    }\n",
              "  </style>\n",
              "\n",
              "      <script>\n",
              "        const buttonEl =\n",
              "          document.querySelector('#df-46aaef98-61a7-47db-87a0-5e3ea33a64ec button.colab-df-convert');\n",
              "        buttonEl.style.display =\n",
              "          google.colab.kernel.accessAllowed ? 'block' : 'none';\n",
              "\n",
              "        async function convertToInteractive(key) {\n",
              "          const element = document.querySelector('#df-46aaef98-61a7-47db-87a0-5e3ea33a64ec');\n",
              "          const dataTable =\n",
              "            await google.colab.kernel.invokeFunction('convertToInteractive',\n",
              "                                                     [key], {});\n",
              "          if (!dataTable) return;\n",
              "\n",
              "          const docLinkHtml = 'Like what you see? Visit the ' +\n",
              "            '<a target=\"_blank\" href=https://colab.research.google.com/notebooks/data_table.ipynb>data table notebook</a>'\n",
              "            + ' to learn more about interactive tables.';\n",
              "          element.innerHTML = '';\n",
              "          dataTable['output_type'] = 'display_data';\n",
              "          await google.colab.output.renderOutput(dataTable, element);\n",
              "          const docLink = document.createElement('div');\n",
              "          docLink.innerHTML = docLinkHtml;\n",
              "          element.appendChild(docLink);\n",
              "        }\n",
              "      </script>\n",
              "    </div>\n",
              "  </div>\n",
              "  "
            ]
          },
          "metadata": {},
          "execution_count": 143
        }
      ]
    },
    {
      "cell_type": "markdown",
      "metadata": {
        "id": "o1mYuhVlUJdL"
      },
      "source": [
        "#  **4. Feature Engineering Techniques for Machine Learning**"
      ]
    },
    {
      "cell_type": "markdown",
      "metadata": {
        "id": "L7t-L_AKvOCH"
      },
      "source": [
        "## 4.1 Distribution "
      ]
    },
    {
      "cell_type": "markdown",
      "metadata": {
        "id": "l1CIUtozMZtV"
      },
      "source": [
        "df3"
      ]
    },
    {
      "cell_type": "code",
      "execution_count": 154,
      "metadata": {
        "colab": {
          "base_uri": "https://localhost:8080/",
          "height": 528
        },
        "id": "p6e57fISyMaT",
        "outputId": "71b162d7-5f55-4adf-e6b8-d543193074e5"
      },
      "outputs": [
        {
          "output_type": "execute_result",
          "data": {
            "text/plain": [
              "<matplotlib.axes._subplots.AxesSubplot at 0x7f7a19368790>"
            ]
          },
          "metadata": {},
          "execution_count": 154
        },
        {
          "output_type": "execute_result",
          "data": {
            "text/plain": [
              "<matplotlib.axes._subplots.AxesSubplot at 0x7f7a19586d50>"
            ]
          },
          "metadata": {},
          "execution_count": 154
        },
        {
          "output_type": "display_data",
          "data": {
            "text/plain": [
              "<Figure size 432x288 with 1 Axes>"
            ],
            "image/png": "[encoded data removed]"
          },
          "metadata": {}
        },
        {
          "output_type": "display_data",
          "data": {
            "text/plain": [
              "<Figure size 432x288 with 1 Axes>"
            ],
            "image/png": "[encoded data removed]"
          },
          "metadata": {}
        }
      ],
      "source": [
        "# Distribution \n",
        "\n",
        "from pickle import TRUE\n",
        "\n",
        "df2['sentiment_1'] = df2['sentiment'].apply(lambda rating : +1 if rating >= 1 else -1)\n",
        "#df2.head(10)\n",
        "\n",
        "df3 = df2.drop(columns= ['sentiment', 'tokenized', 'pos_tags', 'lemmatized', 'length'], )#inplace= True)\n",
        "df3['tweets'] = df3['message'] # Need to clean this further \n",
        "\n",
        "# Pie Chart with pandas \n",
        "# Define the ratio of gap of each fragment in a tuple\n",
        "explode = (0.05, 0.05, 0.05, 0.05)\n",
        "\n",
        "labels = ['1: Positive', '2: News', '0:Neutral','-1: Negative']\n",
        "percentage.plot(kind='pie', y='sentiment', labels=labels, autopct='%1.0f%%', explode=explode, shadow=True, legend=True, \n",
        "                title='Climate Change Sentiments Distribution', ylabel= '', labeldistance=None)\n",
        "\n",
        "\n",
        "# Pie Chart Sentiments_1 column \n",
        "# Define the ratio of gap of each fragment in a tuple\n",
        "#sentiment_count =df['sentiment'].value_counts().to_frame()\n",
        "#percentage = (sentiment_count * 100) / df.shape[0]\n",
        "explode = (0.05, 0.05)\n",
        "\n",
        "df3_counts = df3['sentiment_1'].value_counts().to_frame()\n",
        "percentage2 = (df3_counts * 100)/df3.shape[0]\n",
        "labels2 = ['1: Positive', '-1: Negative']\n",
        "percentage2.plot(kind='pie', y='sentiment_1', labels=labels2, autopct='%1.0f%%', explode=explode, shadow=True, legend=True, title='New Climate Change Sentiments Distribution', ylabel= '', labeldistance=None)"
      ]
    },
    {
      "cell_type": "markdown",
      "metadata": {
        "id": "0aNjo46HK6fk"
      },
      "source": [
        "## **4.2 Oversampling**"
      ]
    },
    {
      "cell_type": "markdown",
      "metadata": {
        "id": "JZydIyanMfZb"
      },
      "source": [
        "df.upsampled"
      ]
    },
    {
      "cell_type": "code",
      "execution_count": 150,
      "metadata": {
        "colab": {
          "base_uri": "https://localhost:8080/",
          "height": 440
        },
        "id": "o5FAsistC4A7",
        "outputId": "b66697dd-eb90-4934-82d3-cbec88d3f7b8"
      },
      "outputs": [
        {
          "output_type": "execute_result",
          "data": {
            "text/plain": [
              "<matplotlib.axes._subplots.AxesSubplot at 0x7f7a205ce4d0>"
            ]
          },
          "metadata": {},
          "execution_count": 150
        },
        {
          "output_type": "execute_result",
          "data": {
            "text/plain": [
              "             message\n",
              "sentiment_1         \n",
              "-1             11705\n",
              " 1             32238"
            ],
            "text/html": [
              "\n",
              "  <div id=\"df-10c34c96-103f-4511-9504-aff20698c142\">\n",
              "    <div class=\"colab-df-container\">\n",
              "      <div>\n",
              "<style scoped>\n",
              "    .dataframe tbody tr th:only-of-type {\n",
              "        vertical-align: middle;\n",
              "    }\n",
              "\n",
              "    .dataframe tbody tr th {\n",
              "        vertical-align: top;\n",
              "    }\n",
              "\n",
              "    .dataframe thead th {\n",
              "        text-align: right;\n",
              "    }\n",
              "</style>\n",
              "<table border=\"1\" class=\"dataframe\">\n",
              "  <thead>\n",
              "    <tr style=\"text-align: right;\">\n",
              "      <th></th>\n",
              "      <th>message</th>\n",
              "    </tr>\n",
              "    <tr>\n",
              "      <th>sentiment_1</th>\n",
              "      <th></th>\n",
              "    </tr>\n",
              "  </thead>\n",
              "  <tbody>\n",
              "    <tr>\n",
              "      <th>-1</th>\n",
              "      <td>11705</td>\n",
              "    </tr>\n",
              "    <tr>\n",
              "      <th>1</th>\n",
              "      <td>32238</td>\n",
              "    </tr>\n",
              "  </tbody>\n",
              "</table>\n",
              "</div>\n",
              "      <button class=\"colab-df-convert\" onclick=\"convertToInteractive('df-10c34c96-103f-4511-9504-aff20698c142')\"\n",
              "              title=\"Convert this dataframe to an interactive table.\"\n",
              "              style=\"display:none;\">\n",
              "        \n",
              "  <svg xmlns=\"http://www.w3.org/2000/svg\" height=\"24px\"viewBox=\"0 0 24 24\"\n",
              "       width=\"24px\">\n",
              "    <path d=\"M0 0h24v24H0V0z\" fill=\"none\"/>\n",
              "    <path d=\"M18.56 5.44l.94 2.06.94-2.06 2.06-.94-2.06-.94-.94-2.06-.94 2.06-2.06.94zm-11 1L8.5 8.5l.94-2.06 2.06-.94-2.06-.94L8.5 2.5l-.94 2.06-2.06.94zm10 10l.94 2.06.94-2.06 2.06-.94-2.06-.94-.94-2.06-.94 2.06-2.06.94z\"/><path d=\"M17.41 7.96l-1.37-1.37c-.4-.4-.92-.59-1.43-.59-.52 0-1.04.2-1.43.59L10.3 9.45l-7.72 7.72c-.78.78-.78 2.05 0 2.83L4 21.41c.39.39.9.59 1.41.59.51 0 1.02-.2 1.41-.59l7.78-7.78 2.81-2.81c.8-.78.8-2.07 0-2.86zM5.41 20L4 18.59l7.72-7.72 1.47 1.35L5.41 20z\"/>\n",
              "  </svg>\n",
              "      </button>\n",
              "      \n",
              "  <style>\n",
              "    .colab-df-container {\n",
              "      display:flex;\n",
              "      flex-wrap:wrap;\n",
              "      gap: 12px;\n",
              "    }\n",
              "\n",
              "    .colab-df-convert {\n",
              "      background-color: #E8F0FE;\n",
              "      border: none;\n",
              "      border-radius: 50%;\n",
              "      cursor: pointer;\n",
              "      display: none;\n",
              "      fill: #1967D2;\n",
              "      height: 32px;\n",
              "      padding: 0 0 0 0;\n",
              "      width: 32px;\n",
              "    }\n",
              "\n",
              "    .colab-df-convert:hover {\n",
              "      background-color: #E2EBFA;\n",
              "      box-shadow: 0px 1px 2px rgba(60, 64, 67, 0.3), 0px 1px 3px 1px rgba(60, 64, 67, 0.15);\n",
              "      fill: #174EA6;\n",
              "    }\n",
              "\n",
              "    [theme=dark] .colab-df-convert {\n",
              "      background-color: #3B4455;\n",
              "      fill: #D2E3FC;\n",
              "    }\n",
              "\n",
              "    [theme=dark] .colab-df-convert:hover {\n",
              "      background-color: #434B5C;\n",
              "      box-shadow: 0px 1px 3px 1px rgba(0, 0, 0, 0.15);\n",
              "      filter: drop-shadow(0px 1px 2px rgba(0, 0, 0, 0.3));\n",
              "      fill: #FFFFFF;\n",
              "    }\n",
              "  </style>\n",
              "\n",
              "      <script>\n",
              "        const buttonEl =\n",
              "          document.querySelector('#df-10c34c96-103f-4511-9504-aff20698c142 button.colab-df-convert');\n",
              "        buttonEl.style.display =\n",
              "          google.colab.kernel.accessAllowed ? 'block' : 'none';\n",
              "\n",
              "        async function convertToInteractive(key) {\n",
              "          const element = document.querySelector('#df-10c34c96-103f-4511-9504-aff20698c142');\n",
              "          const dataTable =\n",
              "            await google.colab.kernel.invokeFunction('convertToInteractive',\n",
              "                                                     [key], {});\n",
              "          if (!dataTable) return;\n",
              "\n",
              "          const docLinkHtml = 'Like what you see? Visit the ' +\n",
              "            '<a target=\"_blank\" href=https://colab.research.google.com/notebooks/data_table.ipynb>data table notebook</a>'\n",
              "            + ' to learn more about interactive tables.';\n",
              "          element.innerHTML = '';\n",
              "          dataTable['output_type'] = 'display_data';\n",
              "          await google.colab.output.renderOutput(dataTable, element);\n",
              "          const docLink = document.createElement('div');\n",
              "          docLink.innerHTML = docLinkHtml;\n",
              "          element.appendChild(docLink);\n",
              "        }\n",
              "      </script>\n",
              "    </div>\n",
              "  </div>\n",
              "  "
            ]
          },
          "metadata": {},
          "execution_count": 150
        },
        {
          "output_type": "display_data",
          "data": {
            "text/plain": [
              "<Figure size 432x288 with 1 Axes>"
            ],
            "image/png": "[encoded data removed]"
          },
          "metadata": {
            "needs_background": "light"
          }
        }
      ],
      "source": [
        "df3.groupby('sentiment_1').count().plot(kind='bar', rot=0, legend=True, title='Original Sample Distribution', ylabel= '')\n",
        "df3.groupby('sentiment_1').count()"
      ]
    },
    {
      "cell_type": "code",
      "execution_count": 155,
      "metadata": {
        "colab": {
          "base_uri": "https://localhost:8080/",
          "height": 350
        },
        "id": "7L166X6H_w4V",
        "outputId": "33987dfe-742e-41ba-e0f4-7f0afdeee35c"
      },
      "outputs": [
        {
          "output_type": "stream",
          "name": "stdout",
          "text": [
            "AxesSubplot(0.125,0.125;0.775x0.755)\n"
          ]
        },
        {
          "output_type": "execute_result",
          "data": {
            "text/plain": [
              "-1    36548\n",
              " 1    32238\n",
              "Name: sentiment_1, dtype: int64"
            ]
          },
          "metadata": {},
          "execution_count": 155
        },
        {
          "output_type": "display_data",
          "data": {
            "text/plain": [
              "<Figure size 432x288 with 1 Axes>"
            ],
            "image/png": "[encoded data removed]"
          },
          "metadata": {
            "needs_background": "light"
          }
        }
      ],
      "source": [
        "# From: https://michael-fuchs-python.netlify.app/2020/01/16/dealing-with-imbalanced-classes/\n",
        "import seaborn as sns\n",
        "import matplotlib.pyplot as plt\n",
        "from sklearn.metrics import accuracy_score\n",
        "from sklearn.metrics import recall_score\n",
        "from sklearn.metrics import roc_auc_score\n",
        "from sklearn.utils import resample\n",
        "\n",
        "## conda install -c glemaitre imbalanced-learn\n",
        "from imblearn.over_sampling import SMOTE\n",
        "\n",
        "#For undersampling\n",
        "#from imblearn.under_sampling import NearMiss\n",
        "\n",
        "\n",
        "# Separate majority and minority classes\n",
        "df_majority = df3[df3.sentiment_1==1]\n",
        "df_minority = df3[df3.sentiment_1==-1]\n",
        " \n",
        "# Upsample minority class\n",
        "df_minority_upsampled = resample(df_minority, \n",
        "                                 replace=True,      # sample with replacement\n",
        "                                 n_samples=36548)   # to match majority class\n",
        "                              \n",
        " \n",
        "#Combine majority class with upsampled minority class\n",
        "df_upsampled = pd.concat([df_majority, df_minority_upsampled])\n",
        "\n",
        "\n",
        "#df_upsampled.head(10)\n",
        "print(df_upsampled['sentiment_1'].value_counts().plot(kind='bar', rot=0, legend=True, title='Oversampled distribution', ylabel= ''))\n",
        "df_upsampled['sentiment_1'].value_counts()\n"
      ]
    },
    {
      "cell_type": "markdown",
      "metadata": {
        "id": "5pV2uYeA5ltg"
      },
      "source": [
        "\n",
        "# **5. Classification Models**\n"
      ]
    },
    {
      "cell_type": "markdown",
      "metadata": {
        "id": "-bK_KePEEaVQ"
      },
      "source": [
        "## 5.1 Linear Regression"
      ]
    },
    {
      "cell_type": "markdown",
      "metadata": {
        "id": "k7O5XCkbGOda"
      },
      "source": [
        "Vectorize & split into test and train\n",
        "Split the data frame into  train and test sets .80% of the data will be used for training, and 20% will be used for testing. \n",
        "\n",
        "Taken from: https://towardsdatascience.com/a-beginners-guide-to-sentiment-analysis-in-python-95e354ea84f6"
      ]
    },
    {
      "cell_type": "code",
      "execution_count": 158,
      "metadata": {
        "id": "qZnOxCTQGHSF"
      },
      "outputs": [],
      "source": [
        "# Random split train and test data. \n",
        "import numpy as np\n",
        "from sklearn.linear_model import LogisticRegression\n",
        "from sklearn.model_selection import train_test_split\n",
        "\n",
        "X_train, X_test, y_train, y_test = train_test_split(df2['message'], df2['sentiment'], test_size=0.33, random_state=42)"
      ]
    },
    {
      "cell_type": "markdown",
      "metadata": {
        "id": "0xwyyKvQGvZP"
      },
      "source": [
        "Create a bag of words\n",
        "- Use a count vectorizer from the Scikit-learn library. \n",
        "\n",
        "This will transform the text in our data frame into a bag of words model, which will contain a sparse matrix of integers. The number of occurrences of each word will be counted and printed.\n",
        "\n",
        "We will need to convert the text into a bag-of-words model since the logistic regression algorithm cannot understand text.\n"
      ]
    },
    {
      "cell_type": "code",
      "execution_count": 159,
      "metadata": {
        "id": "XC4TFoKEHKzm"
      },
      "outputs": [],
      "source": [
        "# count vectorizer:\n",
        "from sklearn.feature_extraction.text import CountVectorizer\n",
        "\n",
        "vectorizer = CountVectorizer(token_pattern=r'\\b\\w+\\b')\n",
        "train_matrix = vectorizer.fit_transform(X_train)\n",
        "test_matrix = vectorizer.transform(X_test)"
      ]
    },
    {
      "cell_type": "markdown",
      "metadata": {
        "id": "Ug0VYr_4Hyxw"
      },
      "source": [
        "Import logistic regression "
      ]
    },
    {
      "cell_type": "code",
      "execution_count": 160,
      "metadata": {
        "id": "HNRmefqGH6ht"
      },
      "outputs": [],
      "source": [
        "# Logistic Regression\n",
        "from sklearn.linear_model import LogisticRegression\n",
        "lr = LogisticRegression()"
      ]
    },
    {
      "cell_type": "markdown",
      "metadata": {
        "id": "0P5aeE5QIWHf"
      },
      "source": [
        "Fit the model on the data"
      ]
    },
    {
      "cell_type": "code",
      "execution_count": 161,
      "metadata": {
        "colab": {
          "base_uri": "https://localhost:8080/"
        },
        "id": "2RH7NV9CIY4_",
        "outputId": "48eaecd6-7004-4edb-ee8c-8760c5953ab9"
      },
      "outputs": [
        {
          "output_type": "stream",
          "name": "stderr",
          "text": [
            "/usr/local/lib/python3.7/dist-packages/sklearn/linear_model/_logistic.py:818: ConvergenceWarning:\n",
            "\n",
            "lbfgs failed to converge (status=1):\n",
            "STOP: TOTAL NO. of ITERATIONS REACHED LIMIT.\n",
            "\n",
            "Increase the number of iterations (max_iter) or scale the data as shown in:\n",
            "    https://scikit-learn.org/stable/modules/preprocessing.html\n",
            "Please also refer to the documentation for alternative solver options:\n",
            "    https://scikit-learn.org/stable/modules/linear_model.html#logistic-regression\n",
            "\n"
          ]
        },
        {
          "output_type": "execute_result",
          "data": {
            "text/plain": [
              "LogisticRegression()"
            ]
          },
          "metadata": {},
          "execution_count": 161
        }
      ],
      "source": [
        "# Error fitting the trains but it works anyways.\n",
        "#\"Your session failed because all available RAM was used. If you want to access large RAM execution environments check Colab Pro\"\n",
        "lr.fit(train_matrix,y_train)"
      ]
    },
    {
      "cell_type": "markdown",
      "metadata": {
        "id": "wJ2USRM8IgHu"
      },
      "source": [
        "Make predictions "
      ]
    },
    {
      "cell_type": "code",
      "execution_count": 162,
      "metadata": {
        "id": "sut4puMmJkXA"
      },
      "outputs": [],
      "source": [
        "predictions = lr.predict(test_matrix)"
      ]
    },
    {
      "cell_type": "markdown",
      "metadata": {
        "id": "8wSeKnyNJft7"
      },
      "source": [
        "Testing "
      ]
    },
    {
      "cell_type": "code",
      "execution_count": 163,
      "metadata": {
        "colab": {
          "base_uri": "https://localhost:8080/"
        },
        "id": "jO3iLeGfJr7C",
        "outputId": "847c9b49-1e1f-42d6-fd3c-176df2d07121"
      },
      "outputs": [
        {
          "output_type": "execute_result",
          "data": {
            "text/plain": [
              "array([[ 623,  149,  146,   22],\n",
              "       [ 241, 1334,  566,  102],\n",
              "       [ 337,  930, 6372,  641],\n",
              "       [  68,  192,  485, 2294]])"
            ]
          },
          "metadata": {},
          "execution_count": 163
        }
      ],
      "source": [
        "# To test the accuracy of the model: \n",
        "# find accuracy, precision, recall:\n",
        "from sklearn.metrics import confusion_matrix,classification_report\n",
        "new = np.asarray(y_test)\n",
        "confusion_matrix(predictions,y_test)\n",
        "\n",
        "# The results should be a confusion matrix "
      ]
    },
    {
      "cell_type": "code",
      "execution_count": 164,
      "metadata": {
        "colab": {
          "base_uri": "https://localhost:8080/"
        },
        "id": "7dOVmJFzL7A3",
        "outputId": "881ed0ad-2ba6-4298-8405-31687a0b7b7e"
      },
      "outputs": [
        {
          "output_type": "stream",
          "name": "stdout",
          "text": [
            "              precision    recall  f1-score   support\n",
            "\n",
            "          -1       0.49      0.66      0.56       940\n",
            "           0       0.51      0.59      0.55      2243\n",
            "           1       0.84      0.77      0.80      8280\n",
            "           2       0.75      0.75      0.75      3039\n",
            "\n",
            "    accuracy                           0.73     14502\n",
            "   macro avg       0.65      0.70      0.67     14502\n",
            "weighted avg       0.75      0.73      0.74     14502\n",
            "\n"
          ]
        }
      ],
      "source": [
        "print(classification_report(predictions,y_test))"
      ]
    },
    {
      "cell_type": "markdown",
      "metadata": {
        "id": "yhkEihpnyDuA"
      },
      "source": [
        "Session 26/09 \n"
      ]
    },
    {
      "cell_type": "markdown",
      "metadata": {
        "id": "r0UIBoua2_ai"
      },
      "source": [
        "### 5.1.1 Linear Regression Model on Redistributed data"
      ]
    },
    {
      "cell_type": "code",
      "execution_count": 165,
      "metadata": {
        "id": "mpPBvUkZ9Cxw"
      },
      "outputs": [],
      "source": [
        "# Linear Regression Model on Subcathegorized data\n",
        "# Random split train and test data. \n",
        "import numpy as np\n",
        "from sklearn.model_selection import train_test_split\n",
        "\n",
        "X_train, X_test, y_train, y_test = train_test_split(df3['tweets'], df3['sentiment_1'], test_size=0.33, random_state=42)"
      ]
    },
    {
      "cell_type": "code",
      "execution_count": 166,
      "metadata": {
        "id": "qH6wIy3d9KCq"
      },
      "outputs": [],
      "source": [
        "# count vectorizer:\n",
        "from sklearn.feature_extraction.text import CountVectorizer\n",
        "\n",
        "vectorizer = CountVectorizer(token_pattern=r'\\b\\w+\\b')\n",
        "train_matrix = vectorizer.fit_transform(X_train)\n",
        "test_matrix = vectorizer.transform(X_test)\n"
      ]
    },
    {
      "cell_type": "code",
      "execution_count": 167,
      "metadata": {
        "id": "fH_z9sLm9PXZ"
      },
      "outputs": [],
      "source": [
        "# Logistic Regression\n",
        "from sklearn.linear_model import LogisticRegression\n",
        "lr = LogisticRegression()"
      ]
    },
    {
      "cell_type": "code",
      "execution_count": 168,
      "metadata": {
        "colab": {
          "base_uri": "https://localhost:8080/"
        },
        "id": "9Ob8jBbo9USK",
        "outputId": "3e1faf58-0817-4556-bd3a-ffd10ec18841"
      },
      "outputs": [
        {
          "output_type": "stream",
          "name": "stderr",
          "text": [
            "/usr/local/lib/python3.7/dist-packages/sklearn/linear_model/_logistic.py:818: ConvergenceWarning:\n",
            "\n",
            "lbfgs failed to converge (status=1):\n",
            "STOP: TOTAL NO. of ITERATIONS REACHED LIMIT.\n",
            "\n",
            "Increase the number of iterations (max_iter) or scale the data as shown in:\n",
            "    https://scikit-learn.org/stable/modules/preprocessing.html\n",
            "Please also refer to the documentation for alternative solver options:\n",
            "    https://scikit-learn.org/stable/modules/linear_model.html#logistic-regression\n",
            "\n"
          ]
        },
        {
          "output_type": "execute_result",
          "data": {
            "text/plain": [
              "LogisticRegression()"
            ]
          },
          "metadata": {},
          "execution_count": 168
        }
      ],
      "source": [
        "# Fit\n",
        "# Try to optimize it \n",
        "lr.fit(train_matrix,y_train)"
      ]
    },
    {
      "cell_type": "code",
      "execution_count": 170,
      "metadata": {
        "id": "raF-xZmZ9wyN"
      },
      "outputs": [],
      "source": [
        "predictions = lr.predict(test_matrix)"
      ]
    },
    {
      "cell_type": "code",
      "execution_count": 171,
      "metadata": {
        "colab": {
          "base_uri": "https://localhost:8080/"
        },
        "id": "eGVc_neP90w2",
        "outputId": "dff46978-2b8e-49b9-a049-d48124082dc0"
      },
      "outputs": [
        {
          "output_type": "execute_result",
          "data": {
            "text/plain": [
              "array([[2355,  795],\n",
              "       [1519, 9833]])"
            ]
          },
          "metadata": {},
          "execution_count": 171
        }
      ],
      "source": [
        "# To test the accuracy of the model: \n",
        "# find accuracy, precision, recall:\n",
        "from sklearn.metrics import confusion_matrix,classification_report\n",
        "new = np.asarray(y_test)\n",
        "confusion_matrix(predictions,y_test)\n",
        "\n",
        "# The results should be a confusion matrix"
      ]
    },
    {
      "cell_type": "code",
      "execution_count": 172,
      "metadata": {
        "colab": {
          "base_uri": "https://localhost:8080/"
        },
        "id": "PzST6-sk95vs",
        "outputId": "1447e548-ace8-409f-d848-c23b09eb7b65"
      },
      "outputs": [
        {
          "output_type": "stream",
          "name": "stdout",
          "text": [
            "              precision    recall  f1-score   support\n",
            "\n",
            "          -1       0.61      0.75      0.67      3150\n",
            "           1       0.93      0.87      0.89     11352\n",
            "\n",
            "    accuracy                           0.84     14502\n",
            "   macro avg       0.77      0.81      0.78     14502\n",
            "weighted avg       0.86      0.84      0.85     14502\n",
            "\n"
          ]
        }
      ],
      "source": [
        "print(classification_report(predictions,y_test))\n"
      ]
    },
    {
      "cell_type": "markdown",
      "metadata": {
        "id": "PoOiZm-72vWg"
      },
      "source": [
        "### 5.1.2 Linear Regression Model on oversampled data"
      ]
    },
    {
      "cell_type": "code",
      "execution_count": 173,
      "metadata": {
        "id": "oK7lByDkJOAy"
      },
      "outputs": [],
      "source": [
        "# Split 3 \n",
        "\n",
        "X_train, X_test, y_train, y_test = train_test_split(df_upsampled['tweets'], df_upsampled['sentiment_1'], test_size=0.33, random_state=42)"
      ]
    },
    {
      "cell_type": "code",
      "execution_count": 174,
      "metadata": {
        "id": "i7gEd3rkJctg"
      },
      "outputs": [],
      "source": [
        "# count vectorizer 3:\n",
        "from sklearn.feature_extraction.text import CountVectorizer\n",
        "\n",
        "vectorizer = CountVectorizer(token_pattern=r'\\b\\w+\\b')\n",
        "train_matrix = vectorizer.fit_transform(X_train)\n",
        "test_matrix = vectorizer.transform(X_test)\n"
      ]
    },
    {
      "cell_type": "code",
      "execution_count": 175,
      "metadata": {
        "id": "50Mk5wGnJoVI"
      },
      "outputs": [],
      "source": [
        "# Logistic Regression\n",
        "from sklearn.linear_model import LogisticRegression\n",
        "lr = LogisticRegression()"
      ]
    },
    {
      "cell_type": "code",
      "execution_count": 176,
      "metadata": {
        "colab": {
          "base_uri": "https://localhost:8080/"
        },
        "id": "-TYMgto1JsfY",
        "outputId": "1640bd8b-ccd3-40fd-82e5-058ab5b6b875"
      },
      "outputs": [
        {
          "output_type": "stream",
          "name": "stderr",
          "text": [
            "/usr/local/lib/python3.7/dist-packages/sklearn/linear_model/_logistic.py:818: ConvergenceWarning:\n",
            "\n",
            "lbfgs failed to converge (status=1):\n",
            "STOP: TOTAL NO. of ITERATIONS REACHED LIMIT.\n",
            "\n",
            "Increase the number of iterations (max_iter) or scale the data as shown in:\n",
            "    https://scikit-learn.org/stable/modules/preprocessing.html\n",
            "Please also refer to the documentation for alternative solver options:\n",
            "    https://scikit-learn.org/stable/modules/linear_model.html#logistic-regression\n",
            "\n"
          ]
        },
        {
          "output_type": "execute_result",
          "data": {
            "text/plain": [
              "LogisticRegression()"
            ]
          },
          "metadata": {},
          "execution_count": 176
        }
      ],
      "source": [
        "# Fit\n",
        "# Try to optimize it \n",
        "lr.fit(train_matrix,y_train)"
      ]
    },
    {
      "cell_type": "code",
      "execution_count": 179,
      "metadata": {
        "id": "PDAeP27tJzGw"
      },
      "outputs": [],
      "source": [
        "predictions = lr.predict(test_matrix)"
      ]
    },
    {
      "cell_type": "code",
      "execution_count": 180,
      "metadata": {
        "colab": {
          "base_uri": "https://localhost:8080/"
        },
        "id": "ik-ai-BAJ3c1",
        "outputId": "4517655e-8d51-4567-946c-2aae6aeb0f08"
      },
      "outputs": [
        {
          "output_type": "execute_result",
          "data": {
            "text/plain": [
              "array([[11005,  1859],\n",
              "       [ 1123,  8713]])"
            ]
          },
          "metadata": {},
          "execution_count": 180
        }
      ],
      "source": [
        "# To test the accuracy of the model: \n",
        "# find accuracy, precision, recall:\n",
        "from sklearn.metrics import confusion_matrix,classification_report\n",
        "new = np.asarray(y_test)\n",
        "confusion_matrix(predictions,y_test)\n",
        "\n",
        "# The results should be a confusion matrix"
      ]
    },
    {
      "cell_type": "code",
      "execution_count": 181,
      "metadata": {
        "colab": {
          "base_uri": "https://localhost:8080/"
        },
        "id": "8u3gtGzPJ8ly",
        "outputId": "0459b973-e14c-4679-97fb-7454417acb6a"
      },
      "outputs": [
        {
          "output_type": "stream",
          "name": "stdout",
          "text": [
            "              precision    recall  f1-score   support\n",
            "\n",
            "          -1       0.91      0.86      0.88     12864\n",
            "           1       0.82      0.89      0.85      9836\n",
            "\n",
            "    accuracy                           0.87     22700\n",
            "   macro avg       0.87      0.87      0.87     22700\n",
            "weighted avg       0.87      0.87      0.87     22700\n",
            "\n"
          ]
        }
      ],
      "source": [
        "print(classification_report(predictions,y_test))"
      ]
    },
    {
      "cell_type": "markdown",
      "metadata": {
        "id": "TJqZhNV5Mdpw"
      },
      "source": [
        "## 5.2 Naive Bayes Classifier"
      ]
    },
    {
      "cell_type": "code",
      "execution_count": 182,
      "metadata": {
        "id": "r9cYtYkgNInL"
      },
      "outputs": [],
      "source": [
        "from sklearn.pipeline import Pipeline\n",
        "from sklearn.naive_bayes import MultinomialNB\n",
        "\n",
        "# Model evaluation\n",
        "from sklearn import metrics\n",
        "from sklearn.metrics import classification_report, confusion_matrix, f1_score, precision_score, recall_score\n",
        "from sklearn.naive_bayes import GaussianNB\n"
      ]
    },
    {
      "cell_type": "code",
      "execution_count": 183,
      "metadata": {
        "id": "T2SvcEQ3SDMz"
      },
      "outputs": [],
      "source": [
        "# Pipeline\n",
        "from sklearn.feature_extraction.text import TfidfVectorizer\n",
        "# Naïve Bayes:\n",
        "nb = Pipeline([('tfidf', TfidfVectorizer()),\n",
        "               ('clf', MultinomialNB())])"
      ]
    },
    {
      "cell_type": "code",
      "execution_count": 184,
      "metadata": {
        "id": "d90ayHnTWhw1"
      },
      "outputs": [],
      "source": [
        "# For the presentation, we moved this next step further down.\n",
        "df4 = df2.drop(columns= ['sentiment_1'], )#inplace= True)\n"
      ]
    },
    {
      "cell_type": "code",
      "execution_count": 187,
      "metadata": {
        "id": "oRa92OTCUCw4"
      },
      "outputs": [],
      "source": [
        "# Split 4 \n",
        "\n",
        "X_train, X_test, y_train, y_test = train_test_split(df4['message'], df4['sentiment'], test_size=0.33, random_state=42)"
      ]
    },
    {
      "cell_type": "code",
      "execution_count": 188,
      "metadata": {
        "id": "FtIN2cu_TopU",
        "colab": {
          "base_uri": "https://localhost:8080/"
        },
        "outputId": "031edbb6-cded-4dde-9226-dfa33f04aedc"
      },
      "outputs": [
        {
          "output_type": "execute_result",
          "data": {
            "text/plain": [
              "Pipeline(steps=[('tfidf', TfidfVectorizer()), ('clf', MultinomialNB())])"
            ]
          },
          "metadata": {},
          "execution_count": 188
        }
      ],
      "source": [
        "# Train model \n",
        "# Niave bayes\n",
        "nb.fit(X_train, y_train)\n"
      ]
    },
    {
      "cell_type": "code",
      "execution_count": 189,
      "metadata": {
        "id": "uocc_PMFVV_N"
      },
      "outputs": [],
      "source": [
        "y_pred_nb = nb.predict(X_test)"
      ]
    },
    {
      "cell_type": "code",
      "execution_count": 190,
      "metadata": {
        "colab": {
          "base_uri": "https://localhost:8080/"
        },
        "id": "9UqCGLR3WCP3",
        "outputId": "2f98fe65-6e8d-47f2-f544-681f567796ef"
      },
      "outputs": [
        {
          "output_type": "stream",
          "name": "stdout",
          "text": [
            "              precision    recall  f1-score   support\n",
            "\n",
            "          -1       0.91      0.03      0.05      1269\n",
            "           0       0.96      0.07      0.12      2605\n",
            "           1       0.58      0.99      0.73      7569\n",
            "           2       0.87      0.38      0.53      3059\n",
            "\n",
            "    accuracy                           0.61     14502\n",
            "   macro avg       0.83      0.36      0.36     14502\n",
            "weighted avg       0.74      0.61      0.52     14502\n",
            "\n"
          ]
        }
      ],
      "source": [
        "# Generate a classification Report for the Naive Bayes model\n",
        "print(metrics.classification_report(y_test, y_pred_nb))\n"
      ]
    },
    {
      "cell_type": "code",
      "execution_count": 191,
      "metadata": {
        "id": "kaxSqhm5XDAo"
      },
      "outputs": [],
      "source": [
        "# Generate a normalized confusion matrix\n",
        "cm = confusion_matrix(y_test, y_pred_nb)\n",
        "cm_norm = cm / cm.sum(axis=1).reshape(-1,1)\n",
        "\n",
        "# Display the confusion matrix as a heatmap\n"
      ]
    },
    {
      "cell_type": "markdown",
      "metadata": {
        "id": "Tvn6ITHhKEWl"
      },
      "source": [
        "### 5.2.1 Naive Bayes Classifier on Redistributed data (2 sentiments)"
      ]
    },
    {
      "cell_type": "code",
      "execution_count": 192,
      "metadata": {
        "id": "MiZuEDoTKQV-"
      },
      "outputs": [],
      "source": [
        "# Pipeline\n",
        "from sklearn.feature_extraction.text import TfidfVectorizer\n",
        "# Naïve Bayes:\n",
        "nb = Pipeline([('tfidf', TfidfVectorizer()),\n",
        "               ('clf', MultinomialNB())])"
      ]
    },
    {
      "cell_type": "code",
      "execution_count": 193,
      "metadata": {
        "id": "Rwgk3q38KmB5"
      },
      "outputs": [],
      "source": [
        "X_train, X_test, y_train, y_test = train_test_split(df3['tweets'], df3['sentiment_1'], test_size=0.33, random_state=42)"
      ]
    },
    {
      "cell_type": "code",
      "execution_count": 194,
      "metadata": {
        "colab": {
          "base_uri": "https://localhost:8080/"
        },
        "id": "GUT7buXeLBuI",
        "outputId": "80a14afd-3543-45d7-f804-2ed651c27bf1"
      },
      "outputs": [
        {
          "output_type": "execute_result",
          "data": {
            "text/plain": [
              "Pipeline(steps=[('tfidf', TfidfVectorizer()), ('clf', MultinomialNB())])"
            ]
          },
          "metadata": {},
          "execution_count": 194
        }
      ],
      "source": [
        "# Train model \n",
        "# Niave bayes\n",
        "nb.fit(X_train, y_train)"
      ]
    },
    {
      "cell_type": "code",
      "execution_count": 195,
      "metadata": {
        "id": "Zv_FdV45LCrC"
      },
      "outputs": [],
      "source": [
        "y_pred_nb = nb.predict(X_test)"
      ]
    },
    {
      "cell_type": "code",
      "execution_count": 196,
      "metadata": {
        "colab": {
          "base_uri": "https://localhost:8080/"
        },
        "id": "DY56pYsMLEpo",
        "outputId": "d578fa67-ea23-4233-85fa-3e790da61f30"
      },
      "outputs": [
        {
          "output_type": "stream",
          "name": "stdout",
          "text": [
            "              precision    recall  f1-score   support\n",
            "\n",
            "          -1       0.93      0.13      0.23      3874\n",
            "           1       0.76      1.00      0.86     10628\n",
            "\n",
            "    accuracy                           0.77     14502\n",
            "   macro avg       0.85      0.56      0.55     14502\n",
            "weighted avg       0.80      0.77      0.69     14502\n",
            "\n"
          ]
        }
      ],
      "source": [
        "# Generate a classification Report for the Naive Bayes model\n",
        "print(metrics.classification_report(y_test, y_pred_nb))"
      ]
    },
    {
      "cell_type": "markdown",
      "metadata": {
        "id": "6pVrsTIfFH2L"
      },
      "source": [
        "## 5.3 Support Vector Machine "
      ]
    },
    {
      "cell_type": "code",
      "execution_count": 197,
      "metadata": {
        "id": "s70YiZgFE3fi"
      },
      "outputs": [],
      "source": [
        "# Linear SVC:\n",
        "from sklearn.svm import LinearSVC\n",
        "\n",
        "#df4 is the df we are using for this model \n",
        "\n",
        "# Pipeline\n",
        "lsvc = Pipeline([('tfidf', TfidfVectorizer()),\n",
        "                 ('clf', LinearSVC(class_weight='balanced'))])\n"
      ]
    },
    {
      "cell_type": "code",
      "execution_count": 199,
      "metadata": {
        "id": "EceGEADMGPfC"
      },
      "outputs": [],
      "source": [
        "# Split 5 (Rerun split 4. )\n",
        "X_train, X_test, y_train, y_test = train_test_split(df4['message'], df4['sentiment'], test_size=0.33, random_state=42)"
      ]
    },
    {
      "cell_type": "code",
      "execution_count": 200,
      "metadata": {
        "colab": {
          "base_uri": "https://localhost:8080/"
        },
        "id": "1XyPuVrAGlI0",
        "outputId": "8a3fa2df-710e-4521-a126-9f43ac2ded09"
      },
      "outputs": [
        {
          "output_type": "execute_result",
          "data": {
            "text/plain": [
              "Pipeline(steps=[('tfidf', TfidfVectorizer()),\n",
              "                ('clf', LinearSVC(class_weight='balanced'))])"
            ]
          },
          "metadata": {},
          "execution_count": 200
        }
      ],
      "source": [
        "# Train the model - Linear SVC\n",
        "lsvc.fit(X_train, y_train)"
      ]
    },
    {
      "cell_type": "code",
      "execution_count": 201,
      "metadata": {
        "id": "4-RxDxWJGwGf"
      },
      "outputs": [],
      "source": [
        "y_pred_lsvc = lsvc.predict(X_test)"
      ]
    },
    {
      "cell_type": "code",
      "execution_count": 202,
      "metadata": {
        "colab": {
          "base_uri": "https://localhost:8080/"
        },
        "id": "_e8v6z8PHM1v",
        "outputId": "3dfae3e1-82b7-43ee-a688-353a60e70707"
      },
      "outputs": [
        {
          "output_type": "stream",
          "name": "stdout",
          "text": [
            "              precision    recall  f1-score   support\n",
            "\n",
            "          -1       0.54      0.58      0.56      1269\n",
            "           0       0.56      0.52      0.54      2605\n",
            "           1       0.80      0.78      0.79      7569\n",
            "           2       0.71      0.79      0.75      3059\n",
            "\n",
            "    accuracy                           0.72     14502\n",
            "   macro avg       0.65      0.67      0.66     14502\n",
            "weighted avg       0.72      0.72      0.72     14502\n",
            "\n"
          ]
        }
      ],
      "source": [
        "# Generate a classification Report for the linear SVC model\n",
        "print(metrics.classification_report(y_test, y_pred_lsvc))"
      ]
    },
    {
      "cell_type": "code",
      "execution_count": 203,
      "metadata": {
        "colab": {
          "base_uri": "https://localhost:8080/",
          "height": 312
        },
        "id": "H6fD3ZacHPNe",
        "outputId": "ccff3d03-fd0c-4d16-de97-19a1f66e33ff"
      },
      "outputs": [
        {
          "output_type": "execute_result",
          "data": {
            "text/plain": [
              "<matplotlib.axes._subplots.AxesSubplot at 0x7f7a259f5f90>"
            ]
          },
          "metadata": {},
          "execution_count": 203
        },
        {
          "output_type": "execute_result",
          "data": {
            "text/plain": [
              "Text(0.5, 1.0, 'Linear SVC classification')"
            ]
          },
          "metadata": {},
          "execution_count": 203
        },
        {
          "output_type": "execute_result",
          "data": {
            "text/plain": [
              "Text(33.0, 0.5, 'True label')"
            ]
          },
          "metadata": {},
          "execution_count": 203
        },
        {
          "output_type": "execute_result",
          "data": {
            "text/plain": [
              "Text(0.5, 15.0, 'Predicted label')"
            ]
          },
          "metadata": {},
          "execution_count": 203
        },
        {
          "output_type": "display_data",
          "data": {
            "text/plain": [
              "<Figure size 432x288 with 2 Axes>"
            ],
            "image/png": "[encoded data removed]"
          },
          "metadata": {
            "needs_background": "light"
          }
        }
      ],
      "source": [
        "# Generate a normalized confusion matrix\n",
        "cm = confusion_matrix(y_test, y_pred_lsvc)\n",
        "cm_norm = cm / cm.sum(axis=1).reshape(-1,1)\n",
        "\n",
        "# Display the confusion matrix as a heatmap\n",
        "sns.heatmap(cm_norm, \n",
        "            cmap=\"YlGnBu\", \n",
        "            xticklabels=lsvc.classes_, \n",
        "            yticklabels=lsvc.classes_, \n",
        "            vmin=0., \n",
        "            vmax=1., \n",
        "            annot=True, \n",
        "            annot_kws={'size':10})\n",
        "\n",
        "# Adding headings and lables\n",
        "plt.title('Linear SVC classification')\n",
        "plt.ylabel('True label')\n",
        "plt.xlabel('Predicted label')\n",
        "plt.show()"
      ]
    },
    {
      "cell_type": "markdown",
      "metadata": {
        "id": "esYZIyxvLX3x"
      },
      "source": [
        "### 5.3 Support Vector Machine on Redistributed data (2 sentiments)"
      ]
    },
    {
      "cell_type": "code",
      "execution_count": 204,
      "metadata": {
        "id": "q5w2gYB9LpJy"
      },
      "outputs": [],
      "source": [
        "# Pipeline\n",
        "lsvc = Pipeline([('tfidf', TfidfVectorizer()),\n",
        "                 ('clf', LinearSVC(class_weight='balanced'))])"
      ]
    },
    {
      "cell_type": "code",
      "execution_count": 205,
      "metadata": {
        "id": "0mmuTzOALtgH"
      },
      "outputs": [],
      "source": [
        "X_train, X_test, y_train, y_test = train_test_split(df3['tweets'], df3['sentiment_1'], test_size=0.33, random_state=42)"
      ]
    },
    {
      "cell_type": "code",
      "execution_count": 206,
      "metadata": {
        "colab": {
          "base_uri": "https://localhost:8080/"
        },
        "id": "0M1eUrzDLwRS",
        "outputId": "5aa647ea-563f-41d0-dd41-8b68bdd55279"
      },
      "outputs": [
        {
          "output_type": "execute_result",
          "data": {
            "text/plain": [
              "Pipeline(steps=[('tfidf', TfidfVectorizer()),\n",
              "                ('clf', LinearSVC(class_weight='balanced'))])"
            ]
          },
          "metadata": {},
          "execution_count": 206
        }
      ],
      "source": [
        "# Train the model - Linear SVC\n",
        "lsvc.fit(X_train, y_train)"
      ]
    },
    {
      "cell_type": "code",
      "execution_count": 207,
      "metadata": {
        "id": "CyfwtFlnLw92"
      },
      "outputs": [],
      "source": [
        "y_pred_lsvc = lsvc.predict(X_test)"
      ]
    },
    {
      "cell_type": "code",
      "execution_count": 208,
      "metadata": {
        "colab": {
          "base_uri": "https://localhost:8080/"
        },
        "id": "kFbOx3ckLzIk",
        "outputId": "43dfc010-2e3d-451a-d654-44d62b7695a4"
      },
      "outputs": [
        {
          "output_type": "stream",
          "name": "stdout",
          "text": [
            "              precision    recall  f1-score   support\n",
            "\n",
            "          -1       0.64      0.72      0.68      3874\n",
            "           1       0.89      0.85      0.87     10628\n",
            "\n",
            "    accuracy                           0.82     14502\n",
            "   macro avg       0.77      0.78      0.77     14502\n",
            "weighted avg       0.82      0.82      0.82     14502\n",
            "\n"
          ]
        }
      ],
      "source": [
        "# Generate a classification Report for the linear SVC model\n",
        "print(metrics.classification_report(y_test, y_pred_lsvc))"
      ]
    },
    {
      "cell_type": "code",
      "execution_count": 209,
      "metadata": {
        "colab": {
          "base_uri": "https://localhost:8080/",
          "height": 312
        },
        "id": "nyCoVTJvL1-k",
        "outputId": "e6daff19-24ec-445f-869a-a886e0e6876e"
      },
      "outputs": [
        {
          "output_type": "execute_result",
          "data": {
            "text/plain": [
              "<matplotlib.axes._subplots.AxesSubplot at 0x7f7a25243690>"
            ]
          },
          "metadata": {},
          "execution_count": 209
        },
        {
          "output_type": "execute_result",
          "data": {
            "text/plain": [
              "Text(0.5, 1.0, 'Linear SVC classification')"
            ]
          },
          "metadata": {},
          "execution_count": 209
        },
        {
          "output_type": "execute_result",
          "data": {
            "text/plain": [
              "Text(33.0, 0.5, 'True label')"
            ]
          },
          "metadata": {},
          "execution_count": 209
        },
        {
          "output_type": "execute_result",
          "data": {
            "text/plain": [
              "Text(0.5, 15.0, 'Predicted label')"
            ]
          },
          "metadata": {},
          "execution_count": 209
        },
        {
          "output_type": "display_data",
          "data": {
            "text/plain": [
              "<Figure size 432x288 with 2 Axes>"
            ],
            "image/png": "[encoded data removed]"
          },
          "metadata": {
            "needs_background": "light"
          }
        }
      ],
      "source": [
        "# Generate a normalized confusion matrix\n",
        "cm = confusion_matrix(y_test, y_pred_lsvc)\n",
        "cm_norm = cm / cm.sum(axis=1).reshape(-1,1)\n",
        "\n",
        "# Display the confusion matrix as a heatmap\n",
        "sns.heatmap(cm_norm, \n",
        "            cmap=\"YlGnBu\", \n",
        "            xticklabels=lsvc.classes_, \n",
        "            yticklabels=lsvc.classes_, \n",
        "            vmin=0., \n",
        "            vmax=1., \n",
        "            annot=True, \n",
        "            annot_kws={'size':10})\n",
        "\n",
        "# Adding headings and lables\n",
        "plt.title('Linear SVC classification')\n",
        "plt.ylabel('True label')\n",
        "plt.xlabel('Predicted label')\n",
        "plt.show()"
      ]
    },
    {
      "cell_type": "markdown",
      "metadata": {
        "id": "4NQxqRvsKHBU"
      },
      "source": [
        "## 5.4 Random Forest Classifier \n"
      ]
    },
    {
      "cell_type": "code",
      "execution_count": 211,
      "metadata": {
        "id": "lTt_wh1qKQon"
      },
      "outputs": [],
      "source": [
        "# Random Forest Classifier\n",
        "from sklearn.ensemble import RandomForestClassifier\n",
        "\n",
        "# Pipeline\n",
        "\n",
        "rf = Pipeline([('tfidf', TfidfVectorizer()),\n",
        "               ('clf', RandomForestClassifier(max_depth=5, \n",
        "                                              n_estimators=100))])\n",
        "\n",
        "# Split\n",
        "X_train, X_test, y_train, y_test = train_test_split(df4['message'], df4['sentiment'], test_size=0.33, random_state=42)"
      ]
    },
    {
      "cell_type": "code",
      "execution_count": 212,
      "metadata": {
        "colab": {
          "base_uri": "https://localhost:8080/"
        },
        "id": "p8sxo0leKl_T",
        "outputId": "f219a2aa-aff3-4f20-f08c-eb645d24b921"
      },
      "outputs": [
        {
          "output_type": "execute_result",
          "data": {
            "text/plain": [
              "Pipeline(steps=[('tfidf', TfidfVectorizer()),\n",
              "                ('clf', RandomForestClassifier(max_depth=5))])"
            ]
          },
          "metadata": {},
          "execution_count": 212
        }
      ],
      "source": [
        "# Random forest \n",
        "rf.fit(X_train, y_train)\n",
        "y_pred_rf = rf.predict(X_test)"
      ]
    },
    {
      "cell_type": "code",
      "execution_count": 213,
      "metadata": {
        "colab": {
          "base_uri": "https://localhost:8080/"
        },
        "id": "-VsJ_546KzWH",
        "outputId": "8a0c1a2a-050c-45d6-c086-00a0a86e678b"
      },
      "outputs": [
        {
          "output_type": "stream",
          "name": "stdout",
          "text": [
            "              precision    recall  f1-score   support\n",
            "\n",
            "          -1       0.00      0.00      0.00      1269\n",
            "           0       0.00      0.00      0.00      2605\n",
            "           1       0.52      1.00      0.69      7569\n",
            "           2       0.00      0.00      0.00      3059\n",
            "\n",
            "    accuracy                           0.52     14502\n",
            "   macro avg       0.13      0.25      0.17     14502\n",
            "weighted avg       0.27      0.52      0.36     14502\n",
            "\n"
          ]
        },
        {
          "output_type": "stream",
          "name": "stderr",
          "text": [
            "/usr/local/lib/python3.7/dist-packages/sklearn/metrics/_classification.py:1318: UndefinedMetricWarning:\n",
            "\n",
            "Precision and F-score are ill-defined and being set to 0.0 in labels with no predicted samples. Use `zero_division` parameter to control this behavior.\n",
            "\n",
            "/usr/local/lib/python3.7/dist-packages/sklearn/metrics/_classification.py:1318: UndefinedMetricWarning:\n",
            "\n",
            "Precision and F-score are ill-defined and being set to 0.0 in labels with no predicted samples. Use `zero_division` parameter to control this behavior.\n",
            "\n",
            "/usr/local/lib/python3.7/dist-packages/sklearn/metrics/_classification.py:1318: UndefinedMetricWarning:\n",
            "\n",
            "Precision and F-score are ill-defined and being set to 0.0 in labels with no predicted samples. Use `zero_division` parameter to control this behavior.\n",
            "\n"
          ]
        }
      ],
      "source": [
        "# Model evaluation \n",
        "# Generate a classification Report for the random forest model\n",
        "print(metrics.classification_report(y_test, y_pred_rf))\n",
        "\n",
        "# Generate a normalized confusion matrix\n",
        "cm = confusion_matrix(y_test, y_pred_rf)\n",
        "cm_norm = cm / cm.sum(axis=1).reshape(-1,1)\n"
      ]
    },
    {
      "cell_type": "code",
      "execution_count": null,
      "metadata": {
        "id": "EKNTu44FLGyX"
      },
      "outputs": [],
      "source": [
        "print(cm)"
      ]
    },
    {
      "cell_type": "markdown",
      "metadata": {
        "id": "FkYL8vpaEF-W"
      },
      "source": [
        "### 5.4.1 Random Forest on Redistributed data (2 sentiments)"
      ]
    },
    {
      "cell_type": "code",
      "execution_count": 214,
      "metadata": {
        "id": "h6_B3XD5MXnk"
      },
      "outputs": [],
      "source": [
        "# Random Forest 2.0 \n",
        "# For this model we use df3 (2 sentiment data)\n",
        "# Random Forest Classifier\n",
        "rf = Pipeline([('tfidf', TfidfVectorizer()),\n",
        "               ('clf', RandomForestClassifier(max_depth=5, \n",
        "                                              n_estimators=100))])"
      ]
    },
    {
      "cell_type": "code",
      "execution_count": 215,
      "metadata": {
        "id": "UpVs8zkeMx9M"
      },
      "outputs": [],
      "source": [
        "# Split 6\n",
        "X_train, X_test, y_train, y_test = train_test_split(df3['tweets'], df3['sentiment_1'], test_size=0.33, random_state=42)"
      ]
    },
    {
      "cell_type": "code",
      "execution_count": 216,
      "metadata": {
        "colab": {
          "base_uri": "https://localhost:8080/"
        },
        "id": "BPHB0D9ANMmo",
        "outputId": "3f8702bb-104b-476b-ce47-bf4efbcbd1e4"
      },
      "outputs": [
        {
          "output_type": "execute_result",
          "data": {
            "text/plain": [
              "Pipeline(steps=[('tfidf', TfidfVectorizer()),\n",
              "                ('clf', RandomForestClassifier(max_depth=5))])"
            ]
          },
          "metadata": {},
          "execution_count": 216
        }
      ],
      "source": [
        "# Fit & Preedicition\n",
        "# Random forest \n",
        "rf.fit(X_train, y_train)\n",
        "y_pred_rf = rf.predict(X_test)"
      ]
    },
    {
      "cell_type": "code",
      "execution_count": 217,
      "metadata": {
        "colab": {
          "base_uri": "https://localhost:8080/"
        },
        "id": "hy_TouGGNe4o",
        "outputId": "b94caa9d-3569-41de-ad1e-cb4c571795d8"
      },
      "outputs": [
        {
          "output_type": "stream",
          "name": "stdout",
          "text": [
            "              precision    recall  f1-score   support\n",
            "\n",
            "          -1       0.00      0.00      0.00      3874\n",
            "           1       0.73      1.00      0.85     10628\n",
            "\n",
            "    accuracy                           0.73     14502\n",
            "   macro avg       0.37      0.50      0.42     14502\n",
            "weighted avg       0.54      0.73      0.62     14502\n",
            "\n"
          ]
        },
        {
          "output_type": "stream",
          "name": "stderr",
          "text": [
            "/usr/local/lib/python3.7/dist-packages/sklearn/metrics/_classification.py:1318: UndefinedMetricWarning:\n",
            "\n",
            "Precision and F-score are ill-defined and being set to 0.0 in labels with no predicted samples. Use `zero_division` parameter to control this behavior.\n",
            "\n",
            "/usr/local/lib/python3.7/dist-packages/sklearn/metrics/_classification.py:1318: UndefinedMetricWarning:\n",
            "\n",
            "Precision and F-score are ill-defined and being set to 0.0 in labels with no predicted samples. Use `zero_division` parameter to control this behavior.\n",
            "\n",
            "/usr/local/lib/python3.7/dist-packages/sklearn/metrics/_classification.py:1318: UndefinedMetricWarning:\n",
            "\n",
            "Precision and F-score are ill-defined and being set to 0.0 in labels with no predicted samples. Use `zero_division` parameter to control this behavior.\n",
            "\n"
          ]
        }
      ],
      "source": [
        "# Model evaluation \n",
        "# Generate a classification Report for the random forest model\n",
        "print(metrics.classification_report(y_test, y_pred_rf))\n",
        "\n",
        "# Generate a normalized confusion matrix\n",
        "cm = confusion_matrix(y_test, y_pred_rf)\n",
        "cm_norm = cm / cm.sum(axis=1).reshape(-1,1)\n"
      ]
    },
    {
      "cell_type": "markdown",
      "metadata": {
        "id": "uTmrFNgYFkRW"
      },
      "source": [
        "### 5.4.2 Random Forest on Oversampled data "
      ]
    },
    {
      "cell_type": "code",
      "execution_count": 218,
      "metadata": {
        "id": "mi6BCsiyRAGY"
      },
      "outputs": [],
      "source": [
        "# We got the same error `zero_division` error, so we are tying with Split 3 \n",
        "X_train, X_test, y_train, y_test = train_test_split(df_upsampled['tweets'], df_upsampled['sentiment_1'], test_size=0.33, random_state=42)"
      ]
    },
    {
      "cell_type": "code",
      "execution_count": 219,
      "metadata": {
        "colab": {
          "base_uri": "https://localhost:8080/"
        },
        "id": "dlbJH0z9Nj1i",
        "outputId": "28d8e078-714e-4add-8fcd-98e08a8486e9"
      },
      "outputs": [
        {
          "output_type": "execute_result",
          "data": {
            "text/plain": [
              "Pipeline(steps=[('tfidf', TfidfVectorizer()),\n",
              "                ('clf', RandomForestClassifier(max_depth=5))])"
            ]
          },
          "metadata": {},
          "execution_count": 219
        },
        {
          "output_type": "stream",
          "name": "stdout",
          "text": [
            "              precision    recall  f1-score   support\n",
            "\n",
            "          -1       0.58      0.99      0.73     12128\n",
            "           1       0.95      0.17      0.29     10572\n",
            "\n",
            "    accuracy                           0.61     22700\n",
            "   macro avg       0.76      0.58      0.51     22700\n",
            "weighted avg       0.75      0.61      0.52     22700\n",
            "\n"
          ]
        }
      ],
      "source": [
        "# Fit & Preedicition\n",
        "# Random forest \n",
        "rf.fit(X_train, y_train)\n",
        "y_pred_rf = rf.predict(X_test)\n",
        "# Model evaluation \n",
        "# Generate a classification Report for the random forest model\n",
        "print(metrics.classification_report(y_test, y_pred_rf))\n",
        "\n",
        "# Generate a normalized confusion matrix\n",
        "cm = confusion_matrix(y_test, y_pred_rf)\n",
        "cm_norm = cm / cm.sum(axis=1).reshape(-1,1)"
      ]
    },
    {
      "cell_type": "markdown",
      "metadata": {
        "id": "Sr1_hm2QT4WX"
      },
      "source": [
        "## 5.5 K Nearest Neighbors classification"
      ]
    },
    {
      "cell_type": "code",
      "execution_count": 220,
      "metadata": {
        "id": "6o98SuuUS_WV"
      },
      "outputs": [],
      "source": [
        "# K-NN Classifier\n",
        "from sklearn.neighbors import KNeighborsClassifier\n",
        "\n",
        "knn = Pipeline([('tfidf', TfidfVectorizer()),\n",
        "                ('clf', KNeighborsClassifier(n_neighbors=5, \n",
        "                                             metric='minkowski', \n",
        "                                             p=2))])"
      ]
    },
    {
      "cell_type": "code",
      "execution_count": 222,
      "metadata": {
        "id": "EKyZponBTQfw"
      },
      "outputs": [],
      "source": [
        "# Split 7\n",
        "X_train, X_test, y_train, y_test = train_test_split(df4['message'], df4['sentiment'], test_size=0.33, random_state=42)"
      ]
    },
    {
      "cell_type": "code",
      "execution_count": 223,
      "metadata": {
        "colab": {
          "base_uri": "https://localhost:8080/"
        },
        "id": "-6M_WE-uTQZ5",
        "outputId": "19fd3322-bf2c-41f0-90c1-ce13730791e3"
      },
      "outputs": [
        {
          "output_type": "execute_result",
          "data": {
            "text/plain": [
              "Pipeline(steps=[('tfidf', TfidfVectorizer()), ('clf', KNeighborsClassifier())])"
            ]
          },
          "metadata": {},
          "execution_count": 223
        }
      ],
      "source": [
        "# K - nearest neighbors\n",
        "knn.fit(X_train, y_train)\n",
        "y_pred_knn = knn.predict(X_test)"
      ]
    },
    {
      "cell_type": "code",
      "execution_count": 224,
      "metadata": {
        "colab": {
          "base_uri": "https://localhost:8080/"
        },
        "id": "LXyj_NBcT-t7",
        "outputId": "460538d9-2daa-4985-a9ea-f65d6486b650"
      },
      "outputs": [
        {
          "output_type": "stream",
          "name": "stdout",
          "text": [
            "              precision    recall  f1-score   support\n",
            "\n",
            "          -1       0.49      0.38      0.43      1269\n",
            "           0       0.43      0.49      0.46      2605\n",
            "           1       0.72      0.72      0.72      7569\n",
            "           2       0.65      0.63      0.64      3059\n",
            "\n",
            "    accuracy                           0.63     14502\n",
            "   macro avg       0.57      0.56      0.56     14502\n",
            "weighted avg       0.63      0.63      0.63     14502\n",
            "\n"
          ]
        }
      ],
      "source": [
        "# Generate a classification Report for the K-nearest neighbors model\n",
        "print(metrics.classification_report(y_test, y_pred_knn))\n",
        "\n",
        "# Generate a normalized confusion matrix\n",
        "cm = confusion_matrix(y_test, y_pred_knn)\n",
        "cm_norm = cm / cm.sum(axis=1).reshape(-1,1)"
      ]
    },
    {
      "cell_type": "markdown",
      "metadata": {
        "id": "7p6p-VWwNUiy"
      },
      "source": [
        "### 5.5.1 K Nearest Neighbors classification on Redistributed data (2 sentiments)"
      ]
    },
    {
      "cell_type": "code",
      "execution_count": 225,
      "metadata": {
        "id": "AAYZtFgoNtjY"
      },
      "outputs": [],
      "source": [
        "knn = Pipeline([('tfidf', TfidfVectorizer()),\n",
        "                ('clf', KNeighborsClassifier(n_neighbors=5, \n",
        "                                             metric='minkowski', \n",
        "                                             p=2))])"
      ]
    },
    {
      "cell_type": "code",
      "execution_count": 226,
      "metadata": {
        "id": "7tI9KcmZNSCG"
      },
      "outputs": [],
      "source": [
        "X_train, X_test, y_train, y_test = train_test_split(df3['tweets'], df3['sentiment_1'], test_size=0.33, random_state=42)"
      ]
    },
    {
      "cell_type": "code",
      "execution_count": 227,
      "metadata": {
        "colab": {
          "base_uri": "https://localhost:8080/"
        },
        "id": "bUL7bcooNwMR",
        "outputId": "06d559b4-2764-40dd-d9c4-f1853e60f0b7"
      },
      "outputs": [
        {
          "output_type": "execute_result",
          "data": {
            "text/plain": [
              "Pipeline(steps=[('tfidf', TfidfVectorizer()), ('clf', KNeighborsClassifier())])"
            ]
          },
          "metadata": {},
          "execution_count": 227
        }
      ],
      "source": [
        "# K - nearest neighbors\n",
        "knn.fit(X_train, y_train)\n",
        "y_pred_knn = knn.predict(X_test)"
      ]
    },
    {
      "cell_type": "code",
      "execution_count": 228,
      "metadata": {
        "colab": {
          "base_uri": "https://localhost:8080/"
        },
        "id": "SQLprBeGNytO",
        "outputId": "9d45259b-1c54-474b-dc68-f59d223b445f"
      },
      "outputs": [
        {
          "output_type": "stream",
          "name": "stdout",
          "text": [
            "              precision    recall  f1-score   support\n",
            "\n",
            "          -1       0.63      0.54      0.58      3874\n",
            "           1       0.84      0.88      0.86     10628\n",
            "\n",
            "    accuracy                           0.79     14502\n",
            "   macro avg       0.73      0.71      0.72     14502\n",
            "weighted avg       0.78      0.79      0.79     14502\n",
            "\n"
          ]
        }
      ],
      "source": [
        "# Generate a classification Report for the K-nearest neighbors model\n",
        "print(metrics.classification_report(y_test, y_pred_knn))\n",
        "\n",
        "# Generate a normalized confusion matrix\n",
        "cm = confusion_matrix(y_test, y_pred_knn)\n",
        "cm_norm = cm / cm.sum(axis=1).reshape(-1,1)"
      ]
    },
    {
      "cell_type": "markdown",
      "metadata": {
        "id": "l2UUyio01Y8J"
      },
      "source": [
        "Still to try on: Feature engineering techniques: bag of words, bi-gram, n-gram models, word2Vec, Word embeddings"
      ]
    },
    {
      "cell_type": "markdown",
      "metadata": {
        "id": "yl5lqcNBaGU9"
      },
      "source": [
        "# **References** -- \n",
        "\n",
        "- Effrosyinidis, Dimittrios (2019): 16 Text Preprocessing Techniques in Python for Twitter Sentiment Analysis. Available online https://github.com/Deffro/text-preprocessing-techniques, Last update: 16/04/2019, Última comprobación el 17/10/2022.\n",
        "\n",
        "\n",
        "- Effrosyinidis, Dimittrios; Symeonidis, Symeon; Arampatzis, Avi (2017): A Comparison of Pre-processing Techniques for Twitter Sentiment Analysis. En: Research and Advanced Technology for Digital Libraries. TPDL 2017. Lecture Notes in Computer Science vol 10450. Available online https://doi.org/10.1007/978-3-319-67008-9_31.\n",
        "\n",
        "- Meinie, Nicole (2020): Sentiment analysis: Twitter on climate change. Available online: https://www.kaggle.com/code/nicolemeinie/sentiment-analysis-twitter-on-climate-change/notebook, Last seen: 17/10/2022.\n",
        "\n",
        "- Quian, Edward (2018):\n",
        "Twitter Cimate Change Sentiment Dataset.\n",
        "Available online: https://www.kaggle.com/datasets/edqian/twitter-climate-change-sentiment-dataset?datasetId=413654, Last seen: 17/10/2022.\n",
        "\n",
        "- Selvaraj, Natasha (2020): A Beginner's Guide to Sentiment Analysis with Python. Puublished in Towards Data Science. Available online: https://towardsdatascience.com/a-beginners-guide-to-sentiment-analysis-in-python-95e354ea84f6, Last update: 12/09/2020, Last seen: 17/10/2022."
      ]
    }
  ],
  "metadata": {
    "colab": {
      "collapsed_sections": [],
      "provenance": [],
      "authorship_tag": "ABX9TyPIiUbKzYp7sAb3Lx7jQNzv",
      "include_colab_link": true
    },
    "kernelspec": {
      "display_name": "Python 3",
      "name": "python3"
    },
    "language_info": {
      "name": "python"
    }
  },
  "nbformat": 4,
  "nbformat_minor": 0
}
